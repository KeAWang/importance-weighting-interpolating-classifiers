{
 "cells": [
  {
   "cell_type": "code",
   "execution_count": 1,
   "id": "current-threat",
   "metadata": {},
   "outputs": [],
   "source": [
    "import torch\n",
    "\n",
    "class ConvNet(torch.nn.Sequential):\n",
    "    input_size = (3, 32, 32)\n",
    "    def __init__(self, output_size):\n",
    "        layers = [\n",
    "            torch.nn.Conv2d(3, 64, 3),\n",
    "            torch.nn.ReLU(),\n",
    "            torch.nn.Conv2d(64, 64, 3),\n",
    "            torch.nn.ReLU(),\n",
    "            torch.nn.MaxPool2d(2),\n",
    "            torch.nn.Conv2d(64, 128, 3),\n",
    "            torch.nn.ReLU(),\n",
    "            torch.nn.Conv2d(128, 128, 3),\n",
    "            torch.nn.ReLU(),\n",
    "            torch.nn.Conv2d(128, 128, 3),\n",
    "            torch.nn.ReLU(),\n",
    "            torch.nn.MaxPool2d(2),\n",
    "            torch.nn.Flatten(),\n",
    "            torch.nn.Linear(2048, 512),\n",
    "            torch.nn.ReLU(),\n",
    "            torch.nn.Linear(512, 128),\n",
    "            torch.nn.ReLU(),\n",
    "            torch.nn.Linear(128, output_size),\n",
    "        ]\n",
    "        super().__init__(*layers)"
   ]
  },
  {
   "cell_type": "code",
   "execution_count": 2,
   "id": "violent-duplicate",
   "metadata": {},
   "outputs": [],
   "source": [
    "net = ConvNet(2)"
   ]
  },
  {
   "cell_type": "code",
   "execution_count": 14,
   "id": "supposed-daisy",
   "metadata": {},
   "outputs": [],
   "source": [
    "x = torch.randn(11, 3, 32, 32) * 5"
   ]
  },
  {
   "cell_type": "code",
   "execution_count": 15,
   "id": "sound-maple",
   "metadata": {},
   "outputs": [],
   "source": [
    "y = net(x)"
   ]
  },
  {
   "cell_type": "code",
   "execution_count": 16,
   "id": "explicit-canada",
   "metadata": {},
   "outputs": [
    {
     "data": {
      "text/plain": [
       "tensor([[ 0.0683, -0.0430],\n",
       "        [ 0.0666, -0.0401],\n",
       "        [ 0.0660, -0.0413],\n",
       "        [ 0.0653, -0.0464],\n",
       "        [ 0.0678, -0.0499],\n",
       "        [ 0.0703, -0.0495],\n",
       "        [ 0.0701, -0.0490],\n",
       "        [ 0.0703, -0.0495],\n",
       "        [ 0.0648, -0.0496],\n",
       "        [ 0.0737, -0.0461],\n",
       "        [ 0.0695, -0.0426]], grad_fn=<AddmmBackward>)"
      ]
     },
     "execution_count": 16,
     "metadata": {},
     "output_type": "execute_result"
    }
   ],
   "source": [
    "y"
   ]
  },
  {
   "cell_type": "code",
   "execution_count": 17,
   "id": "executed-bibliography",
   "metadata": {},
   "outputs": [
    {
     "data": {
      "text/plain": [
       "torch.Size([11, 2])"
      ]
     },
     "execution_count": 17,
     "metadata": {},
     "output_type": "execute_result"
    }
   ],
   "source": [
    "y.shape"
   ]
  },
  {
   "cell_type": "code",
   "execution_count": null,
   "id": "interpreted-christopher",
   "metadata": {},
   "outputs": [],
   "source": []
  }
 ],
 "metadata": {
  "kernelspec": {
   "display_name": "Python 3",
   "language": "python",
   "name": "python3"
  },
  "language_info": {
   "codemirror_mode": {
    "name": "ipython",
    "version": 3
   },
   "file_extension": ".py",
   "mimetype": "text/x-python",
   "name": "python",
   "nbconvert_exporter": "python",
   "pygments_lexer": "ipython3",
   "version": "3.8.8"
  }
 },
 "nbformat": 4,
 "nbformat_minor": 5
}
