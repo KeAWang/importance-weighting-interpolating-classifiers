{
 "cells": [
  {
   "cell_type": "code",
   "execution_count": 1,
   "id": "indoor-romantic",
   "metadata": {},
   "outputs": [],
   "source": [
    "import sys\n",
    "sys.path.append(\"../\")\n",
    "from src.utils.wandb_utils import get_config, config_to_omegaconf\n",
    "\n",
    "%load_ext autoreload\n",
    "%autoreload 2"
   ]
  },
  {
   "cell_type": "code",
   "execution_count": 6,
   "id": "married-circus",
   "metadata": {},
   "outputs": [],
   "source": [
    "user = \"kealexanderwang\"\n",
    "project = \"importance-reweighing\"\n",
    "\n",
    "run_names = [\n",
    "    \"lemon-donkey-92\",\n",
    "    \"fanciful-sound-91\",\n",
    "    \"hopeful-music-90\",\n",
    "    \"vibrant-durian-89\",\n",
    "    \"solar-grass-88\",\n",
    "]\n",
    "\n",
    "query = {\"displayName\": {\"$in\": run_names}}"
   ]
  },
  {
   "cell_type": "code",
   "execution_count": 10,
   "id": "mysterious-hawaiian",
   "metadata": {},
   "outputs": [],
   "source": [
    "from typing import Tuple\n",
    "\n",
    "\n",
    "def init_model(name_config: Tuple[str, dict], ckpt_name=\"last.ckpt\"):\n",
    "    \n",
    "    name, config = name_config\n",
    "    config = config_to_omegaconf(config)\n",
    "    run_dir = config[\"run_dir\"]\n",
    "    ckpt_path = f\"{run_dir}/checkpoints/{ckpt_name}\"\n",
    "    \n",
    "    config.trainer.gpus = 0  # don't use GPU for test time\n",
    "    from src.train import hydra_init\n",
    "    hydra_objs = hydra_init(config)\n",
    "    \n",
    "    model = hydra_objs.model\n",
    "    import torch\n",
    "    ckpt = torch.load(ckpt_path)\n",
    "    model.load_state_dict(ckpt[\"state_dict\"])\n",
    "    model.eval()\n",
    "    model.cpu()\n",
    "    \n",
    "    datamodule = hydra_objs.datamodule\n",
    "    datamodule.setup()\n",
    "    return model, datamodule"
   ]
  },
  {
   "cell_type": "code",
   "execution_count": 11,
   "id": "japanese-column",
   "metadata": {},
   "outputs": [],
   "source": [
    "name_configs = get_config(user=user, project=project, query=query)"
   ]
  },
  {
   "cell_type": "code",
   "execution_count": 13,
   "id": "fantastic-validity",
   "metadata": {},
   "outputs": [
    {
     "name": "stderr",
     "output_type": "stream",
     "text": [
      "GPU available: True, used: False\n",
      "TPU available: False, using: 0 TPU cores\n"
     ]
    },
    {
     "name": "stdout",
     "output_type": "stream",
     "text": [
      "<class 'src.pl_models.imbalanced_classifier_model.ImbalancedClassifierModel'> initialized with unused kwargs: ['params_total', 'params_trainable', 'params_not_trainable']\n",
      "Files already downloaded and verified\n",
      "Files already downloaded and verified\n"
     ]
    },
    {
     "name": "stderr",
     "output_type": "stream",
     "text": [
      "GPU available: True, used: False\n",
      "TPU available: False, using: 0 TPU cores\n"
     ]
    },
    {
     "name": "stdout",
     "output_type": "stream",
     "text": [
      "<class 'src.pl_models.imbalanced_classifier_model.ImbalancedClassifierModel'> initialized with unused kwargs: ['params_total', 'params_trainable', 'params_not_trainable']\n",
      "Files already downloaded and verified\n",
      "Files already downloaded and verified\n"
     ]
    },
    {
     "name": "stderr",
     "output_type": "stream",
     "text": [
      "GPU available: True, used: False\n",
      "TPU available: False, using: 0 TPU cores\n"
     ]
    },
    {
     "name": "stdout",
     "output_type": "stream",
     "text": [
      "<class 'src.pl_models.imbalanced_classifier_model.ImbalancedClassifierModel'> initialized with unused kwargs: ['params_total', 'params_trainable', 'params_not_trainable']\n",
      "Files already downloaded and verified\n",
      "Files already downloaded and verified\n"
     ]
    },
    {
     "name": "stderr",
     "output_type": "stream",
     "text": [
      "GPU available: True, used: False\n",
      "TPU available: False, using: 0 TPU cores\n"
     ]
    },
    {
     "name": "stdout",
     "output_type": "stream",
     "text": [
      "<class 'src.pl_models.imbalanced_classifier_model.ImbalancedClassifierModel'> initialized with unused kwargs: ['params_total', 'params_trainable', 'params_not_trainable']\n",
      "Files already downloaded and verified\n",
      "Files already downloaded and verified\n"
     ]
    },
    {
     "name": "stderr",
     "output_type": "stream",
     "text": [
      "GPU available: True, used: False\n",
      "TPU available: False, using: 0 TPU cores\n"
     ]
    },
    {
     "name": "stdout",
     "output_type": "stream",
     "text": [
      "<class 'src.pl_models.imbalanced_classifier_model.ImbalancedClassifierModel'> initialized with unused kwargs: ['params_total', 'params_trainable', 'params_not_trainable']\n",
      "Files already downloaded and verified\n",
      "Files already downloaded and verified\n"
     ]
    }
   ],
   "source": [
    "model_datamodule_lst = [init_model(name_config) for name_config in name_configs]"
   ]
  },
  {
   "cell_type": "code",
   "execution_count": 14,
   "id": "automotive-thought",
   "metadata": {},
   "outputs": [],
   "source": [
    "val_dataset = model_datamodule_lst[0][1].val_dataset\n",
    "models = [m_d[0] for m_d in model_datamodule_lst]"
   ]
  },
  {
   "cell_type": "code",
   "execution_count": 16,
   "id": "worse-completion",
   "metadata": {},
   "outputs": [],
   "source": [
    "import copy\n",
    "averaged_model = copy.deepcopy(models[0])"
   ]
  },
  {
   "cell_type": "code",
   "execution_count": 21,
   "id": "suffering-insert",
   "metadata": {
    "tags": []
   },
   "outputs": [
    {
     "data": {
      "text/plain": [
       "odict_keys(['class_weights', 'architecture.0.weight', 'architecture.0.bias', 'architecture.2.weight', 'architecture.2.bias', 'architecture.5.weight', 'architecture.5.bias', 'architecture.7.weight', 'architecture.7.bias', 'architecture.9.weight', 'architecture.9.bias', 'architecture.13.weight', 'architecture.13.bias', 'architecture.15.weight', 'architecture.15.bias', 'architecture.17.weight', 'architecture.17.bias', 'criterion.weight'])"
      ]
     },
     "execution_count": 21,
     "metadata": {},
     "output_type": "execute_result"
    }
   ],
   "source": [
    "averaged_model.state_dict().keys()"
   ]
  },
  {
   "cell_type": "code",
   "execution_count": 26,
   "id": "prepared-nickname",
   "metadata": {},
   "outputs": [],
   "source": [
    "from typing import List, Dict\n",
    "import torch\n",
    "\n",
    "def average_params(target_state_dict: dict, other_state_dicts: List[dict], state_dict_keys: List[str]):\n",
    "    for state_dict_key in state_dict_keys:\n",
    "        other_params = [other[state_dict_key] for other in other_state_dicts]\n",
    "        averaged_params = torch.stack(other_params, axis=0).mean(0)\n",
    "        target_state_dict[state_dict_key] = averaged_params\n",
    "    return target_state_dict"
   ]
  },
  {
   "cell_type": "code",
   "execution_count": 27,
   "id": "successful-fifty",
   "metadata": {},
   "outputs": [
    {
     "data": {
      "text/plain": [
       "<All keys matched successfully>"
      ]
     },
     "execution_count": 27,
     "metadata": {},
     "output_type": "execute_result"
    }
   ],
   "source": [
    "averaged_state_dict = average_params(averaged_model.state_dict(), [m.state_dict() for m in models], [\"architecture.17.weight\", \"architecture.17.bias\"])\n",
    "averaged_model.load_state_dict(averaged_state_dict)"
   ]
  },
  {
   "cell_type": "code",
   "execution_count": 39,
   "id": "coordinate-witch",
   "metadata": {},
   "outputs": [],
   "source": [
    "import torch\n",
    "from torch.utils.data import DataLoader\n",
    "\n",
    "dataloader = DataLoader(val_dataset, batch_size=256)\n",
    "y_trues = []\n",
    "y_preds = []\n",
    "for x, y in dataloader:\n",
    "    batch = x, y\n",
    "    _, _, y_pred, _ = averaged_model.step(batch)\n",
    "    \n",
    "    y_trues.append(y)\n",
    "    y_preds.append(y_pred)\n",
    "    \n",
    "y_trues = torch.cat(y_trues)\n",
    "y_preds = torch.cat(y_preds)\n",
    "\n",
    "val_acc = (y_trues == y_preds).float().mean().item()\n",
    "\n",
    "val_frac_predicted_pos = (y_preds == 1).sum().item() / len(y_preds)"
   ]
  },
  {
   "cell_type": "code",
   "execution_count": 40,
   "id": "frozen-grace",
   "metadata": {},
   "outputs": [
    {
     "name": "stdout",
     "output_type": "stream",
     "text": [
      "0.6884999871253967\n"
     ]
    }
   ],
   "source": [
    "print(val_acc)"
   ]
  },
  {
   "cell_type": "code",
   "execution_count": 41,
   "id": "piano-little",
   "metadata": {},
   "outputs": [
    {
     "name": "stdout",
     "output_type": "stream",
     "text": [
      "0.7395\n"
     ]
    }
   ],
   "source": [
    "print(val_frac_predicted_pos)"
   ]
  }
 ],
 "metadata": {
  "kernelspec": {
   "display_name": "Python 3",
   "language": "python",
   "name": "python3"
  },
  "language_info": {
   "codemirror_mode": {
    "name": "ipython",
    "version": 3
   },
   "file_extension": ".py",
   "mimetype": "text/x-python",
   "name": "python",
   "nbconvert_exporter": "python",
   "pygments_lexer": "ipython3",
   "version": "3.8.8"
  }
 },
 "nbformat": 4,
 "nbformat_minor": 5
}
