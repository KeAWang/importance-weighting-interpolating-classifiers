{
  "cells": [
    {
      "cell_type": "markdown",
      "metadata": {},
      "source": [
        "Compute the Performance in the Different Classes over Different IWs "
      ]
    },
    {
      "cell_type": "code",
      "execution_count": null,
      "metadata": {
        "id": "HfEkRFiSvr2b"
      },
      "outputs": [],
      "source": [
        "import numpy as np\r\n",
        "from scipy.stats import norm\r\n",
        "import torch\r\n",
        "import matplotlib.pyplot as plt\r\n",
        "import matplotlib.colors as mcolors\r\n",
        "import pickle as pkl"
      ]
    },
    {
      "cell_type": "code",
      "execution_count": null,
      "metadata": {
        "id": "xt7KnLOPhL70"
      },
      "outputs": [],
      "source": [
        "def loss(v, b):\r\n",
        "  return (torch.sum(1./(z1s @ v)) + b * torch.sum(1./(z2s @ v))) /(n1+b*n2)\r\n",
        "\r\n",
        "def gen_error(v, return_code=0):\r\n",
        "  v1 = v / torch.norm(v)\r\n",
        "  v1 = v1.detach().numpy()\r\n",
        "  ip1, ip2 = mu_1 @ v1, mu_2 @ v1\r\n",
        "  if return_code == 0:\r\n",
        "    return 0.5 * (norm.cdf(-ip1) + norm.cdf(-ip2))\r\n",
        "  if return_code == 1:\r\n",
        "    return norm.cdf(-ip1), norm.cdf(-ip2)\r\n",
        "  else:\r\n",
        "    return ip1, ip2"
      ]
    },
    {
      "cell_type": "code",
      "execution_count": null,
      "metadata": {
        "id": "omQyoKUIYPtr"
      },
      "outputs": [],
      "source": [
        "p = 1000000\r\n",
        "\r\n",
        "mu_norm = p**0.251\r\n",
        "\r\n",
        "mu_1 = torch.zeros(p)\r\n",
        "mu_1[0] = mu_norm\r\n",
        "\r\n",
        "mu_2 = torch.zeros(p)\r\n",
        "mu_2[1] = mu_norm\r\n",
        "\r\n",
        "n = 100"
      ]
    },
    {
      "cell_type": "code",
      "execution_count": null,
      "metadata": {
        "colab": {
          "base_uri": "https://localhost:8080/",
          "height": 54
        },
        "id": "jvR-hMv0qbM9",
        "outputId": "b7080adb-0e33-44f3-c903-af54bc94df25"
      },
      "outputs": [
        {
          "name": "stdout",
          "output_type": "stream",
          "text": [
            "Mounted at /content/drive\n"
          ]
        },
        {
          "data": {
            "application/vnd.google.colaboratory.intrinsic+json": {
              "type": "string"
            },
            "text/plain": [
              "'/content/drive/MyDrive/IW_project_sims/polyloss_run_data/'"
            ]
          },
          "execution_count": 5,
          "metadata": {},
          "output_type": "execute_result"
        }
      ],
      "source": [
        "# Path to save file and file name\r\n",
        "path = \"path/to/output/file/\"\r\n",
        "fname = \"fig2_right_output\""
      ]
    },
    {
      "cell_type": "code",
      "execution_count": null,
      "metadata": {
        "id": "tZmkMbIYWDas"
      },
      "outputs": [],
      "source": [
        "a_vals = np.linspace(0, 5, 21)"
      ]
    },
    {
      "cell_type": "code",
      "execution_count": null,
      "metadata": {
        "colab": {
          "base_uri": "https://localhost:8080/"
        },
        "id": "2gslrvL4wkkr",
        "outputId": "f77cc89e-7f0c-44f4-d6cb-e18b0677d88d"
      },
      "outputs": [],
      "source": [
        "computing_data = True\r\n",
        "\r\n",
        "if computing_data:\r\n",
        "\r\n",
        "  approx_tau = 10\r\n",
        "\r\n",
        "  n1 = min(int(np.round(approx_tau * n/(1.+approx_tau))), n-1)\r\n",
        "  n2 = n - n1\r\n",
        "\r\n",
        "  n1, n2 = max(n1, n2), min(n1, n2)\r\n",
        "  tau = n1/n2\r\n",
        "\r\n",
        "  print(\"tau={}, n1={}\".format(tau, n1))\r\n",
        "\r\n",
        "  runs = 10\r\n",
        "  run_data = []\r\n",
        "\r\n",
        "  for run in range(runs):\r\n",
        "\r\n",
        "    print(\"RUN {} ========================\".format(run))\r\n",
        "    perfs = []\r\n",
        "    perf_mm = []\r\n",
        "\r\n",
        "    z1s = torch.randn((n1, p)) + mu_1[None, :]\r\n",
        "    z2s = torch.randn((n2, p)) + mu_2[None, :]\r\n",
        "\r\n",
        "    w = ((torch.sum(z1s, 0) + torch.sum(z2s, 0))/n).detach()\r\n",
        "    w = (w/torch.norm(w)).detach()\r\n",
        "    w.requires_grad = True\r\n",
        "\r\n",
        "    for a in a_vals:\r\n",
        "\r\n",
        "      perfs_a = []\r\n",
        "\r\n",
        "      b = tau**a\r\n",
        "\r\n",
        "      optim = torch.optim.SGD([w], lr=1e-3, momentum=0.9)\r\n",
        "      w.grad = None\r\n",
        "\r\n",
        "      while w.grad is None or torch.norm(w.grad) > 1e-5:\r\n",
        "        optim.zero_grad()\r\n",
        "        l = loss(w, b) + torch.norm(w)**2\r\n",
        "        l.backward()\r\n",
        "        optim.step()\r\n",
        "\r\n",
        "      perfs_a.append(gen_error(w, 1))\r\n",
        "\r\n",
        "      print(\"w={}, perf={}\".format(b, perfs_a[-1]))\r\n",
        "      perfs.append(perfs_a)\r\n",
        "\r\n",
        "    run_data.append({\"run\": run, \"tau\": tau, \"a_vals\": a_vals,\r\n",
        "                    \"perfs\": perfs})\r\n",
        "\r\n",
        "    if path is not None:\r\n",
        "      f = open(path + fname+\".pkl\", \"wb\")\r\n",
        "      pkl.dump(run_data, f)\r\n",
        "      f.close()\r\n",
        "\r\n",
        "    print(\"RUN {} COMPLETE ==============================\".format(run))\r\n",
        "else:\r\n",
        "  f = open(path + fname+\".pkl\", \"rb\")\r\n",
        "  run_data = pkl.load(f)\r\n",
        "  f.close()"
      ]
    },
    {
      "cell_type": "markdown",
      "metadata": {},
      "source": [
        "Plot the Performance"
      ]
    },
    {
      "cell_type": "code",
      "execution_count": null,
      "metadata": {},
      "outputs": [],
      "source": [
        "file = open(path + fname+\".pkl\",'rb')\r\n",
        "data = pkl.load(file)\r\n",
        "\r\n",
        "#Load the data from the pickle file\r\n",
        "tau = data[0]['tau']    #values of the different imbalance ratios. Each value denotes the a value of |P|/|N|\r\n",
        "a_vals = data[0]['a_vals']\r\n",
        "num_runs = len(data)\r\n",
        "\r\n",
        "\r\n",
        "p_perfs = []\r\n",
        "n_perfs = []\r\n",
        "\r\n",
        "\r\n",
        "for run in range(num_runs):\r\n",
        "  p_perfs.append(np.array([el[0][0] for el in data[run]['perfs']])[None, :])\r\n",
        "  n_perfs.append(np.array([el[0][1] for el in data[run]['perfs']])[None, :])\r\n",
        "\r\n",
        "p_perfs = np.concatenate(p_perfs)\r\n",
        "n_perfs = np.concatenate(n_perfs)\r\n",
        "\r\n",
        "avg_p_perfs = np.mean(p_perfs, axis=0)\r\n",
        "avg_n_perfs = np.mean(n_perfs, axis=0)\r\n",
        "\r\n",
        "test_err = (avg_p_perfs + avg_n_perfs) / 2"
      ]
    },
    {
      "cell_type": "code",
      "execution_count": null,
      "metadata": {},
      "outputs": [],
      "source": [
        "import seaborn as sns\r\n",
        "import matplotlib\r\n",
        "import matplotlib.pyplot as plt\r\n",
        "import matplotlib.style as style\r\n",
        "from matplotlib.ticker import FormatStrFormatter\r\n",
        "\r\n",
        "palette = ['#E24A33', '#348ABD', '#988ED5', '#777777', '#FBC15E', '#8EBA42', '#FFB5B8']\r\n",
        "sns.set_palette(palette)\r\n",
        "\r\n",
        "\r\n",
        "plt.rc('text', usetex=True)\r\n",
        "#style.use('fivethirtyeight')\r\n",
        "plt.rc('font', family='times')\r\n",
        "#csfont = {'fontname':'Times New Roman'}\r\n",
        "#plt.rc('xtick', labelsize=18)\r\n",
        "#plt.rc('ytick', labelsize=18)\r\n",
        "\r\n",
        "\r\n",
        "fig = plt.figure(figsize=(6, 4))\r\n",
        "fig.set_facecolor('white')\r\n",
        "fig.patch.set_facecolor('white')\r\n",
        "ax1 = fig.add_subplot(1, 1, 1)\r\n",
        "ax1.yaxis.set_major_formatter(FormatStrFormatter('%.0f'))\r\n",
        "ax1.set_facecolor(\"#e1ddbf\")\r\n",
        "plt.locator_params(axis=\"y\", nbins=8)\r\n",
        "\r\n",
        "ax1.plot(a_vals,100*avg_p_perfs,'^',markersize = 16,markevery=2,linewidth=5,label=\"Majority Class\",linestyle='solid')\r\n",
        "ax1.plot(a_vals,100*avg_n_perfs,'o',markersize = 16,markevery=2,linewidth=5,label= \"Minority Class\",linestyle='solid')\r\n",
        "ax1.plot(a_vals,100*test_err,'*',markersize = 18,markevery=2,linewidth=5,label=\"Overall\",linestyle='solid')\r\n",
        "#ax1.vlines(1, 0, 20,linestyle='dashed',alpha=0.3,color='teal')\r\n",
        "#ax1.vlines(3, 0, 20,linestyle='dashed',alpha=0.3,color='teal')\r\n",
        "#ax1.plot(a_vals,100*avg_n_perfs,'o',markersize = 10,linewidth=4,label= \"Minority Class Error\",linestyle='dashdot')\r\n",
        "#ax1.plot(a_vals,100*avg_n_perfs,'o',markersize = 10,linewidth=4,label= \"Minority Class Error\",linestyle='dashdot')\r\n",
        "\r\n",
        "\r\n",
        "ax1.set_facecolor('white')\r\n",
        "ax1.grid(True, linewidth=0.3)\r\n",
        "\r\n",
        "ax1.set_xlabel(r'$\\rho$',size=18)\r\n",
        "ax1.set_xticks([0, 1, 2, 3, 4, 5])\r\n",
        "\r\n",
        "\r\n",
        "ax1.set_ylabel(\"Test Error (\\%)\",size=18)\r\n",
        "ax1.set_title(\"Test Error vs. Importance Weight \" r'$(w=\\tau^{\\rho})$',size=18)\r\n",
        "handles, labels = ax1.get_legend_handles_labels()\r\n",
        "#handles = [handles[1], handles[2], handles[0]]\r\n",
        "#labels = [labels[1], labels[2], labels[0]]\r\n",
        "ax1.legend(handles, labels, loc='best',prop={'size': 15},facecolor='white')\r\n",
        "#ax1.legend(loc='best',prop={'size': 12},facecolor='white')\r\n",
        "plt.savefig('fig2_right.pdf', bbox_inches='tight')\r\n",
        "plt.show()"
      ]
    }
  ],
  "metadata": {
    "colab": {
      "collapsed_sections": [],
      "name": "polyloss_sims_varying_w.ipynb",
      "provenance": []
    },
    "interpreter": {
      "hash": "c7588bfed29fac78da79f52931fd8759ab389dc01252ae429e7247082ce90299"
    },
    "kernelspec": {
      "display_name": "Python 3.7.3 64-bit ('saminulh': virtualenv)",
      "name": "python3"
    },
    "language_info": {
      "name": "python",
      "version": ""
    }
  },
  "nbformat": 4,
  "nbformat_minor": 0
}