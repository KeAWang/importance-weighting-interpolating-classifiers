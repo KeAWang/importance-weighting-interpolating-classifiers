{
 "cells": [
  {
   "cell_type": "code",
   "execution_count": 1,
   "id": "stuck-navigation",
   "metadata": {},
   "outputs": [],
   "source": [
    "import sys\n",
    "sys.path.append(\"../\")\n",
    "import dotenv\n",
    "from src.utils.wandb_utils import get_config, config_to_omegaconf\n",
    "from run import set_personal_dir_from_hostname\n",
    "import os\n",
    "\n",
    "%load_ext autoreload\n",
    "%autoreload 2"
   ]
  },
  {
   "cell_type": "code",
   "execution_count": 2,
   "id": "empty-quick",
   "metadata": {},
   "outputs": [
    {
     "data": {
      "text/plain": [
       "True"
      ]
     },
     "execution_count": 2,
     "metadata": {},
     "output_type": "execute_result"
    }
   ],
   "source": [
    "set_personal_dir_from_hostname()\n",
    "# load environment variables from `.env` file if it exists\n",
    "dotenv.load_dotenv(override=True)"
   ]
  },
  {
   "cell_type": "code",
   "execution_count": 3,
   "id": "brazilian-shirt",
   "metadata": {},
   "outputs": [],
   "source": [
    "user = \"kealexanderwang\"\n",
    "project = \"importance-reweighing\""
   ]
  },
  {
   "cell_type": "code",
   "execution_count": 4,
   "id": "private-forest",
   "metadata": {},
   "outputs": [],
   "source": [
    "run_names = [\n",
    "    \"likely-mountain-495\",\n",
    "    \"easy-field-494\",\n",
    "    \"grateful-paper-493\",\n",
    "]\n",
    "\n",
    "query = {\"displayName\": {\"$in\": run_names}}"
   ]
  },
  {
   "cell_type": "code",
   "execution_count": 5,
   "id": "broken-tiffany",
   "metadata": {},
   "outputs": [],
   "source": [
    "from typing import Tuple\n",
    "\n",
    "\n",
    "def init_model(name_config: Tuple[str, dict], ckpt_name=\"last.ckpt\"):\n",
    "    \n",
    "    name, config = name_config\n",
    "    config[\"data_dir\"] = os.environ.get(\"DATA_DIR\")\n",
    "    config[\"datamodule/data_dir\"] = os.environ.get(\"DATA_DIR\")\n",
    "    config[\"architecture/pretrained\"] = False  # don't load resnet checkpoint for permission reasons\n",
    "    \n",
    "    config = config_to_omegaconf(config)\n",
    "    run_dir = config[\"run_dir\"]\n",
    "    ckpt_path = f\"{run_dir}/checkpoints/{ckpt_name}\"\n",
    "    \n",
    "    config.trainer.gpus = 0  # don't use GPU for test time\n",
    "    from src.train import hydra_init\n",
    "    hydra_objs = hydra_init(config)\n",
    "    \n",
    "    model = hydra_objs.model\n",
    "    import torch\n",
    "    ckpt = torch.load(ckpt_path, map_location=torch.device('cpu'))\n",
    "    model.load_state_dict(ckpt[\"state_dict\"])\n",
    "    model.eval()\n",
    "    model.cpu()\n",
    "    \n",
    "    datamodule = hydra_objs.datamodule\n",
    "    datamodule.setup()\n",
    "    return model, datamodule"
   ]
  },
  {
   "cell_type": "code",
   "execution_count": 6,
   "id": "registered-briefing",
   "metadata": {},
   "outputs": [],
   "source": [
    "name_configs = get_config(user=user, project=project, query=query)"
   ]
  },
  {
   "cell_type": "code",
   "execution_count": 7,
   "id": "third-fever",
   "metadata": {},
   "outputs": [
    {
     "name": "stdout",
     "output_type": "stream",
     "text": [
      "<class 'src.pl_models.imbalanced_classifier_model.ImbalancedClassifierModel'> initialized with unused kwargs: ['params_total', 'params_trainable', 'params_not_trainable', 'class_weights']\n",
      "Resetting final linear layer\n"
     ]
    },
    {
     "name": "stderr",
     "output_type": "stream",
     "text": [
      "GPU available: False, used: False\n",
      "TPU available: False, using: 0 TPU cores\n"
     ]
    },
    {
     "name": "stdout",
     "output_type": "stream",
     "text": [
      "Train class counts: Counter({0: 3682, 1: 1113})\n",
      "Train group counts: Counter({0: 3498, 3: 1057, 1: 184, 2: 56})\n",
      "Val class counts: Counter({0: 933, 1: 266})\n",
      "Val group counts: Counter({0: 467, 1: 466, 3: 133, 2: 133})\n",
      "Test class counts: Counter({0: 4510, 1: 1284})\n",
      "Test group counts: Counter({0: 2255, 1: 2255, 3: 642, 2: 642})\n",
      "Dataset classes were undersampled to Counter({1: 108, 0: 98})\n",
      "Dataset groups were undersampled to Counter({1: 57, 2: 56, 3: 52, 0: 41})\n"
     ]
    },
    {
     "name": "stderr",
     "output_type": "stream",
     "text": [
      "../src/datasets/utils.py:96: UserWarning: To copy construct from a tensor, it is recommended to use sourceTensor.clone().detach() or sourceTensor.clone().detach().requires_grad_(True), rather than torch.tensor(sourceTensor).\n",
      "  weights = torch.tensor(weights)\n",
      "GPU available: False, used: False\n",
      "TPU available: False, using: 0 TPU cores\n"
     ]
    },
    {
     "name": "stdout",
     "output_type": "stream",
     "text": [
      "<class 'src.pl_models.imbalanced_classifier_model.ImbalancedClassifierModel'> initialized with unused kwargs: ['params_total', 'params_trainable', 'params_not_trainable', 'class_weights']\n",
      "Resetting final linear layer\n",
      "Train class counts: Counter({0: 3682, 1: 1113})\n",
      "Train group counts: Counter({0: 3498, 3: 1057, 1: 184, 2: 56})\n",
      "Val class counts: Counter({0: 933, 1: 266})\n",
      "Val group counts: Counter({0: 467, 1: 466, 3: 133, 2: 133})\n",
      "Test class counts: Counter({0: 4510, 1: 1284})\n",
      "Test group counts: Counter({0: 2255, 1: 2255, 3: 642, 2: 642})\n",
      "Dataset classes were undersampled to Counter({0: 130, 1: 115})\n",
      "Dataset groups were undersampled to Counter({0: 74, 3: 59, 2: 56, 1: 56})\n"
     ]
    }
   ],
   "source": [
    "model_datamodule_lst = [init_model(name_config) for name_config in name_configs]"
   ]
  },
  {
   "cell_type": "code",
   "execution_count": 8,
   "id": "relevant-detection",
   "metadata": {},
   "outputs": [],
   "source": [
    "val_dataset = model_datamodule_lst[0][1].val_dataset\n",
    "models = [m_d[0] for m_d in model_datamodule_lst]"
   ]
  },
  {
   "cell_type": "code",
   "execution_count": 9,
   "id": "weird-friend",
   "metadata": {},
   "outputs": [],
   "source": [
    "import copy\n",
    "averaged_model = copy.deepcopy(models[0])"
   ]
  },
  {
   "cell_type": "code",
   "execution_count": 10,
   "id": "knowing-kelly",
   "metadata": {},
   "outputs": [
    {
     "data": {
      "text/plain": [
       "odict_keys(['architecture.conv1.weight', 'architecture.bn1.weight', 'architecture.bn1.bias', 'architecture.bn1.running_mean', 'architecture.bn1.running_var', 'architecture.bn1.num_batches_tracked', 'architecture.layer1.0.downsample.0.weight', 'architecture.layer1.0.downsample.1.weight', 'architecture.layer1.0.downsample.1.bias', 'architecture.layer1.0.downsample.1.running_mean', 'architecture.layer1.0.downsample.1.running_var', 'architecture.layer1.0.downsample.1.num_batches_tracked', 'architecture.layer1.0.conv1.weight', 'architecture.layer1.0.bn1.weight', 'architecture.layer1.0.bn1.bias', 'architecture.layer1.0.bn1.running_mean', 'architecture.layer1.0.bn1.running_var', 'architecture.layer1.0.bn1.num_batches_tracked', 'architecture.layer1.0.conv2.weight', 'architecture.layer1.0.bn2.weight', 'architecture.layer1.0.bn2.bias', 'architecture.layer1.0.bn2.running_mean', 'architecture.layer1.0.bn2.running_var', 'architecture.layer1.0.bn2.num_batches_tracked', 'architecture.layer1.0.conv3.weight', 'architecture.layer1.0.bn3.weight', 'architecture.layer1.0.bn3.bias', 'architecture.layer1.0.bn3.running_mean', 'architecture.layer1.0.bn3.running_var', 'architecture.layer1.0.bn3.num_batches_tracked', 'architecture.layer1.1.conv1.weight', 'architecture.layer1.1.bn1.weight', 'architecture.layer1.1.bn1.bias', 'architecture.layer1.1.bn1.running_mean', 'architecture.layer1.1.bn1.running_var', 'architecture.layer1.1.bn1.num_batches_tracked', 'architecture.layer1.1.conv2.weight', 'architecture.layer1.1.bn2.weight', 'architecture.layer1.1.bn2.bias', 'architecture.layer1.1.bn2.running_mean', 'architecture.layer1.1.bn2.running_var', 'architecture.layer1.1.bn2.num_batches_tracked', 'architecture.layer1.1.conv3.weight', 'architecture.layer1.1.bn3.weight', 'architecture.layer1.1.bn3.bias', 'architecture.layer1.1.bn3.running_mean', 'architecture.layer1.1.bn3.running_var', 'architecture.layer1.1.bn3.num_batches_tracked', 'architecture.layer1.2.conv1.weight', 'architecture.layer1.2.bn1.weight', 'architecture.layer1.2.bn1.bias', 'architecture.layer1.2.bn1.running_mean', 'architecture.layer1.2.bn1.running_var', 'architecture.layer1.2.bn1.num_batches_tracked', 'architecture.layer1.2.conv2.weight', 'architecture.layer1.2.bn2.weight', 'architecture.layer1.2.bn2.bias', 'architecture.layer1.2.bn2.running_mean', 'architecture.layer1.2.bn2.running_var', 'architecture.layer1.2.bn2.num_batches_tracked', 'architecture.layer1.2.conv3.weight', 'architecture.layer1.2.bn3.weight', 'architecture.layer1.2.bn3.bias', 'architecture.layer1.2.bn3.running_mean', 'architecture.layer1.2.bn3.running_var', 'architecture.layer1.2.bn3.num_batches_tracked', 'architecture.layer2.0.downsample.0.weight', 'architecture.layer2.0.downsample.1.weight', 'architecture.layer2.0.downsample.1.bias', 'architecture.layer2.0.downsample.1.running_mean', 'architecture.layer2.0.downsample.1.running_var', 'architecture.layer2.0.downsample.1.num_batches_tracked', 'architecture.layer2.0.conv1.weight', 'architecture.layer2.0.bn1.weight', 'architecture.layer2.0.bn1.bias', 'architecture.layer2.0.bn1.running_mean', 'architecture.layer2.0.bn1.running_var', 'architecture.layer2.0.bn1.num_batches_tracked', 'architecture.layer2.0.conv2.weight', 'architecture.layer2.0.bn2.weight', 'architecture.layer2.0.bn2.bias', 'architecture.layer2.0.bn2.running_mean', 'architecture.layer2.0.bn2.running_var', 'architecture.layer2.0.bn2.num_batches_tracked', 'architecture.layer2.0.conv3.weight', 'architecture.layer2.0.bn3.weight', 'architecture.layer2.0.bn3.bias', 'architecture.layer2.0.bn3.running_mean', 'architecture.layer2.0.bn3.running_var', 'architecture.layer2.0.bn3.num_batches_tracked', 'architecture.layer2.1.conv1.weight', 'architecture.layer2.1.bn1.weight', 'architecture.layer2.1.bn1.bias', 'architecture.layer2.1.bn1.running_mean', 'architecture.layer2.1.bn1.running_var', 'architecture.layer2.1.bn1.num_batches_tracked', 'architecture.layer2.1.conv2.weight', 'architecture.layer2.1.bn2.weight', 'architecture.layer2.1.bn2.bias', 'architecture.layer2.1.bn2.running_mean', 'architecture.layer2.1.bn2.running_var', 'architecture.layer2.1.bn2.num_batches_tracked', 'architecture.layer2.1.conv3.weight', 'architecture.layer2.1.bn3.weight', 'architecture.layer2.1.bn3.bias', 'architecture.layer2.1.bn3.running_mean', 'architecture.layer2.1.bn3.running_var', 'architecture.layer2.1.bn3.num_batches_tracked', 'architecture.layer2.2.conv1.weight', 'architecture.layer2.2.bn1.weight', 'architecture.layer2.2.bn1.bias', 'architecture.layer2.2.bn1.running_mean', 'architecture.layer2.2.bn1.running_var', 'architecture.layer2.2.bn1.num_batches_tracked', 'architecture.layer2.2.conv2.weight', 'architecture.layer2.2.bn2.weight', 'architecture.layer2.2.bn2.bias', 'architecture.layer2.2.bn2.running_mean', 'architecture.layer2.2.bn2.running_var', 'architecture.layer2.2.bn2.num_batches_tracked', 'architecture.layer2.2.conv3.weight', 'architecture.layer2.2.bn3.weight', 'architecture.layer2.2.bn3.bias', 'architecture.layer2.2.bn3.running_mean', 'architecture.layer2.2.bn3.running_var', 'architecture.layer2.2.bn3.num_batches_tracked', 'architecture.layer2.3.conv1.weight', 'architecture.layer2.3.bn1.weight', 'architecture.layer2.3.bn1.bias', 'architecture.layer2.3.bn1.running_mean', 'architecture.layer2.3.bn1.running_var', 'architecture.layer2.3.bn1.num_batches_tracked', 'architecture.layer2.3.conv2.weight', 'architecture.layer2.3.bn2.weight', 'architecture.layer2.3.bn2.bias', 'architecture.layer2.3.bn2.running_mean', 'architecture.layer2.3.bn2.running_var', 'architecture.layer2.3.bn2.num_batches_tracked', 'architecture.layer2.3.conv3.weight', 'architecture.layer2.3.bn3.weight', 'architecture.layer2.3.bn3.bias', 'architecture.layer2.3.bn3.running_mean', 'architecture.layer2.3.bn3.running_var', 'architecture.layer2.3.bn3.num_batches_tracked', 'architecture.layer3.0.downsample.0.weight', 'architecture.layer3.0.downsample.1.weight', 'architecture.layer3.0.downsample.1.bias', 'architecture.layer3.0.downsample.1.running_mean', 'architecture.layer3.0.downsample.1.running_var', 'architecture.layer3.0.downsample.1.num_batches_tracked', 'architecture.layer3.0.conv1.weight', 'architecture.layer3.0.bn1.weight', 'architecture.layer3.0.bn1.bias', 'architecture.layer3.0.bn1.running_mean', 'architecture.layer3.0.bn1.running_var', 'architecture.layer3.0.bn1.num_batches_tracked', 'architecture.layer3.0.conv2.weight', 'architecture.layer3.0.bn2.weight', 'architecture.layer3.0.bn2.bias', 'architecture.layer3.0.bn2.running_mean', 'architecture.layer3.0.bn2.running_var', 'architecture.layer3.0.bn2.num_batches_tracked', 'architecture.layer3.0.conv3.weight', 'architecture.layer3.0.bn3.weight', 'architecture.layer3.0.bn3.bias', 'architecture.layer3.0.bn3.running_mean', 'architecture.layer3.0.bn3.running_var', 'architecture.layer3.0.bn3.num_batches_tracked', 'architecture.layer3.1.conv1.weight', 'architecture.layer3.1.bn1.weight', 'architecture.layer3.1.bn1.bias', 'architecture.layer3.1.bn1.running_mean', 'architecture.layer3.1.bn1.running_var', 'architecture.layer3.1.bn1.num_batches_tracked', 'architecture.layer3.1.conv2.weight', 'architecture.layer3.1.bn2.weight', 'architecture.layer3.1.bn2.bias', 'architecture.layer3.1.bn2.running_mean', 'architecture.layer3.1.bn2.running_var', 'architecture.layer3.1.bn2.num_batches_tracked', 'architecture.layer3.1.conv3.weight', 'architecture.layer3.1.bn3.weight', 'architecture.layer3.1.bn3.bias', 'architecture.layer3.1.bn3.running_mean', 'architecture.layer3.1.bn3.running_var', 'architecture.layer3.1.bn3.num_batches_tracked', 'architecture.layer3.2.conv1.weight', 'architecture.layer3.2.bn1.weight', 'architecture.layer3.2.bn1.bias', 'architecture.layer3.2.bn1.running_mean', 'architecture.layer3.2.bn1.running_var', 'architecture.layer3.2.bn1.num_batches_tracked', 'architecture.layer3.2.conv2.weight', 'architecture.layer3.2.bn2.weight', 'architecture.layer3.2.bn2.bias', 'architecture.layer3.2.bn2.running_mean', 'architecture.layer3.2.bn2.running_var', 'architecture.layer3.2.bn2.num_batches_tracked', 'architecture.layer3.2.conv3.weight', 'architecture.layer3.2.bn3.weight', 'architecture.layer3.2.bn3.bias', 'architecture.layer3.2.bn3.running_mean', 'architecture.layer3.2.bn3.running_var', 'architecture.layer3.2.bn3.num_batches_tracked', 'architecture.layer3.3.conv1.weight', 'architecture.layer3.3.bn1.weight', 'architecture.layer3.3.bn1.bias', 'architecture.layer3.3.bn1.running_mean', 'architecture.layer3.3.bn1.running_var', 'architecture.layer3.3.bn1.num_batches_tracked', 'architecture.layer3.3.conv2.weight', 'architecture.layer3.3.bn2.weight', 'architecture.layer3.3.bn2.bias', 'architecture.layer3.3.bn2.running_mean', 'architecture.layer3.3.bn2.running_var', 'architecture.layer3.3.bn2.num_batches_tracked', 'architecture.layer3.3.conv3.weight', 'architecture.layer3.3.bn3.weight', 'architecture.layer3.3.bn3.bias', 'architecture.layer3.3.bn3.running_mean', 'architecture.layer3.3.bn3.running_var', 'architecture.layer3.3.bn3.num_batches_tracked', 'architecture.layer3.4.conv1.weight', 'architecture.layer3.4.bn1.weight', 'architecture.layer3.4.bn1.bias', 'architecture.layer3.4.bn1.running_mean', 'architecture.layer3.4.bn1.running_var', 'architecture.layer3.4.bn1.num_batches_tracked', 'architecture.layer3.4.conv2.weight', 'architecture.layer3.4.bn2.weight', 'architecture.layer3.4.bn2.bias', 'architecture.layer3.4.bn2.running_mean', 'architecture.layer3.4.bn2.running_var', 'architecture.layer3.4.bn2.num_batches_tracked', 'architecture.layer3.4.conv3.weight', 'architecture.layer3.4.bn3.weight', 'architecture.layer3.4.bn3.bias', 'architecture.layer3.4.bn3.running_mean', 'architecture.layer3.4.bn3.running_var', 'architecture.layer3.4.bn3.num_batches_tracked', 'architecture.layer3.5.conv1.weight', 'architecture.layer3.5.bn1.weight', 'architecture.layer3.5.bn1.bias', 'architecture.layer3.5.bn1.running_mean', 'architecture.layer3.5.bn1.running_var', 'architecture.layer3.5.bn1.num_batches_tracked', 'architecture.layer3.5.conv2.weight', 'architecture.layer3.5.bn2.weight', 'architecture.layer3.5.bn2.bias', 'architecture.layer3.5.bn2.running_mean', 'architecture.layer3.5.bn2.running_var', 'architecture.layer3.5.bn2.num_batches_tracked', 'architecture.layer3.5.conv3.weight', 'architecture.layer3.5.bn3.weight', 'architecture.layer3.5.bn3.bias', 'architecture.layer3.5.bn3.running_mean', 'architecture.layer3.5.bn3.running_var', 'architecture.layer3.5.bn3.num_batches_tracked', 'architecture.layer4.0.downsample.0.weight', 'architecture.layer4.0.downsample.1.weight', 'architecture.layer4.0.downsample.1.bias', 'architecture.layer4.0.downsample.1.running_mean', 'architecture.layer4.0.downsample.1.running_var', 'architecture.layer4.0.downsample.1.num_batches_tracked', 'architecture.layer4.0.conv1.weight', 'architecture.layer4.0.bn1.weight', 'architecture.layer4.0.bn1.bias', 'architecture.layer4.0.bn1.running_mean', 'architecture.layer4.0.bn1.running_var', 'architecture.layer4.0.bn1.num_batches_tracked', 'architecture.layer4.0.conv2.weight', 'architecture.layer4.0.bn2.weight', 'architecture.layer4.0.bn2.bias', 'architecture.layer4.0.bn2.running_mean', 'architecture.layer4.0.bn2.running_var', 'architecture.layer4.0.bn2.num_batches_tracked', 'architecture.layer4.0.conv3.weight', 'architecture.layer4.0.bn3.weight', 'architecture.layer4.0.bn3.bias', 'architecture.layer4.0.bn3.running_mean', 'architecture.layer4.0.bn3.running_var', 'architecture.layer4.0.bn3.num_batches_tracked', 'architecture.layer4.1.conv1.weight', 'architecture.layer4.1.bn1.weight', 'architecture.layer4.1.bn1.bias', 'architecture.layer4.1.bn1.running_mean', 'architecture.layer4.1.bn1.running_var', 'architecture.layer4.1.bn1.num_batches_tracked', 'architecture.layer4.1.conv2.weight', 'architecture.layer4.1.bn2.weight', 'architecture.layer4.1.bn2.bias', 'architecture.layer4.1.bn2.running_mean', 'architecture.layer4.1.bn2.running_var', 'architecture.layer4.1.bn2.num_batches_tracked', 'architecture.layer4.1.conv3.weight', 'architecture.layer4.1.bn3.weight', 'architecture.layer4.1.bn3.bias', 'architecture.layer4.1.bn3.running_mean', 'architecture.layer4.1.bn3.running_var', 'architecture.layer4.1.bn3.num_batches_tracked', 'architecture.layer4.2.conv1.weight', 'architecture.layer4.2.bn1.weight', 'architecture.layer4.2.bn1.bias', 'architecture.layer4.2.bn1.running_mean', 'architecture.layer4.2.bn1.running_var', 'architecture.layer4.2.bn1.num_batches_tracked', 'architecture.layer4.2.conv2.weight', 'architecture.layer4.2.bn2.weight', 'architecture.layer4.2.bn2.bias', 'architecture.layer4.2.bn2.running_mean', 'architecture.layer4.2.bn2.running_var', 'architecture.layer4.2.bn2.num_batches_tracked', 'architecture.layer4.2.conv3.weight', 'architecture.layer4.2.bn3.weight', 'architecture.layer4.2.bn3.bias', 'architecture.layer4.2.bn3.running_mean', 'architecture.layer4.2.bn3.running_var', 'architecture.layer4.2.bn3.num_batches_tracked', 'architecture.fc.weight', 'architecture.fc.bias'])"
      ]
     },
     "execution_count": 10,
     "metadata": {},
     "output_type": "execute_result"
    }
   ],
   "source": [
    "models[0].state_dict().keys()"
   ]
  },
  {
   "cell_type": "code",
   "execution_count": 11,
   "id": "current-triangle",
   "metadata": {},
   "outputs": [],
   "source": [
    "from typing import List, Dict\n",
    "import torch\n",
    "\n",
    "def average_params(target_state_dict: dict, other_state_dicts: List[dict], state_dict_keys: List[str]=[]):\n",
    "    if state_dict_keys == []:\n",
    "        state_dict_keys = list(target_state_dict.keys())    \n",
    "    for state_dict_key in state_dict_keys:\n",
    "        other_params = [other[state_dict_key] for other in other_state_dicts]\n",
    "        averaged_params = torch.stack(other_params, axis=0).float().mean(0) # WARNING: We're also averaging batch norm statistics here!\n",
    "        target_state_dict[state_dict_key] = averaged_params\n",
    "    return target_state_dict"
   ]
  },
  {
   "cell_type": "code",
   "execution_count": 12,
   "id": "single-involvement",
   "metadata": {},
   "outputs": [
    {
     "data": {
      "text/plain": [
       "<All keys matched successfully>"
      ]
     },
     "execution_count": 12,
     "metadata": {},
     "output_type": "execute_result"
    }
   ],
   "source": [
    "averaged_state_dict = average_params(averaged_model.state_dict(), [m.state_dict() for m in models])\n",
    "averaged_model.load_state_dict(averaged_state_dict)"
   ]
  },
  {
   "cell_type": "code",
   "execution_count": 13,
   "id": "sweet-armstrong",
   "metadata": {},
   "outputs": [],
   "source": [
    "del models # save some memory, delete other models"
   ]
  },
  {
   "cell_type": "code",
   "execution_count": 16,
   "id": "german-concentrate",
   "metadata": {},
   "outputs": [
    {
     "data": {
      "text/plain": [
       "(tensor(0.2222, grad_fn=<DivBackward0>),\n",
       " tensor([[-1.7820,  1.7610],\n",
       "         [-1.9164,  2.0339],\n",
       "         [ 0.8052, -0.9037],\n",
       "         [-1.4280,  1.2056],\n",
       "         [-1.5421,  1.5030],\n",
       "         [-1.5618,  1.2545],\n",
       "         [-1.6002,  1.7873],\n",
       "         [-3.2132,  2.8146],\n",
       "         [-0.3205,  0.1856],\n",
       "         [-1.9415,  1.9130],\n",
       "         [-1.7621,  1.5743],\n",
       "         [-2.7017,  2.3098],\n",
       "         [-1.4035,  1.2672],\n",
       "         [-0.3577,  0.2682],\n",
       "         [-2.6781,  2.4736],\n",
       "         [-1.2993,  1.3919],\n",
       "         [-0.6123,  0.4669],\n",
       "         [-1.9032,  1.8806],\n",
       "         [-1.7044,  1.7879],\n",
       "         [-0.8972,  0.5990],\n",
       "         [-1.5478,  1.4132],\n",
       "         [ 1.5000, -1.6037],\n",
       "         [ 1.0748, -1.1990],\n",
       "         [ 1.5667, -1.7044],\n",
       "         [ 1.2408, -1.4194],\n",
       "         [-0.1605,  0.2223],\n",
       "         [ 0.2227, -0.3095],\n",
       "         [ 0.2881, -0.4925],\n",
       "         [-0.7544,  0.6778],\n",
       "         [-0.8659,  0.8924],\n",
       "         [-0.6766,  0.7123],\n",
       "         [ 0.2415, -0.3054]], grad_fn=<AddmmBackward>),\n",
       " tensor([1, 1, 0, 1, 1, 1, 1, 1, 1, 1, 1, 1, 1, 1, 1, 1, 1, 1, 1, 1, 1, 0, 0, 0,\n",
       "         0, 1, 0, 0, 1, 1, 1, 0]),\n",
       " tensor([1, 1, 1, 1, 1, 1, 1, 1, 1, 1, 1, 1, 1, 1, 1, 1, 1, 1, 1, 1, 1, 0, 0, 0,\n",
       "         0, 0, 0, 0, 1, 1, 1, 1]),\n",
       " {'w': tensor([0.0075, 0.0075, 0.0075, 0.0075, 0.0075, 0.0075, 0.0075, 0.0075, 0.0075,\n",
       "          0.0075, 0.0075, 0.0075, 0.0075, 0.0075, 0.0075, 0.0075, 0.0075, 0.0075,\n",
       "          0.0075, 0.0075, 0.0075, 0.0021, 0.0021, 0.0021, 0.0021, 0.0021, 0.0021,\n",
       "          0.0021, 0.0075, 0.0075, 0.0075, 0.0075]),\n",
       "  'g': tensor([3, 2, 3, 3, 2, 3, 2, 2, 3, 2, 3, 2, 2, 2, 3, 2, 2, 3, 3, 3, 3, 0, 0, 0,\n",
       "          0, 0, 0, 0, 2, 3, 3, 3])})"
      ]
     },
     "execution_count": 16,
     "metadata": {},
     "output_type": "execute_result"
    }
   ],
   "source": [
    "y_pred"
   ]
  },
  {
   "cell_type": "code",
   "execution_count": 18,
   "id": "female-cartoon",
   "metadata": {},
   "outputs": [],
   "source": [
    "import torch\n",
    "from torch.utils.data import DataLoader\n",
    "\n",
    "dataloader = DataLoader(val_dataset, batch_size=64)\n",
    "y_trues = []\n",
    "y_preds = []\n",
    "weights = []\n",
    "group_labels = []\n",
    "for batch in dataloader:\n",
    "    _, logits, y_pred, _, _ = averaged_model.step(batch)\n",
    "\n",
    "    y = batch.y\n",
    "    g = batch.g\n",
    "    w = batch.g\n",
    "    \n",
    "    y_trues.append(y)\n",
    "    y_preds.append(y_pred)\n",
    "    weights.append(w)\n",
    "    group_labels.append(g)\n",
    "    \n",
    "y_trues = torch.cat(y_trues)\n",
    "y_preds = torch.cat(y_preds)\n",
    "group_labels = torch.cat(group_labels)\n",
    "weights = torch.cat(weights)\n",
    "\n",
    "correct = (y_trues == y_preds).float()\n",
    "\n",
    "val_acc = correct.mean().item()"
   ]
  },
  {
   "cell_type": "code",
   "execution_count": 19,
   "id": "cultural-surveillance",
   "metadata": {},
   "outputs": [
    {
     "data": {
      "text/plain": [
       "0.9274395108222961"
      ]
     },
     "execution_count": 19,
     "metadata": {},
     "output_type": "execute_result"
    }
   ],
   "source": [
    "val_acc"
   ]
  },
  {
   "cell_type": "code",
   "execution_count": 20,
   "id": "reflected-glucose",
   "metadata": {},
   "outputs": [],
   "source": [
    "group_accs = {}                                                                   \n",
    "correct = (y_trues == y_preds).float()\n",
    "for g in torch.unique(group_labels).tolist():                                     \n",
    "    in_g = group_labels == g                                                      \n",
    "    acc = correct[in_g].mean().item()                                             \n",
    "    group_accs[g] = acc                                                           \n",
    "\n",
    "val_reweighted_acc = (correct * weights).sum(0) / weights.sum(0) "
   ]
  },
  {
   "cell_type": "code",
   "execution_count": 21,
   "id": "alike-recall",
   "metadata": {},
   "outputs": [
    {
     "name": "stdout",
     "output_type": "stream",
     "text": [
      "{0: 0.9464668035507202, 1: 0.9442059993743896, 2: 0.8345864415168762, 3: 0.8947368264198303}\n"
     ]
    }
   ],
   "source": [
    "print(group_accs)"
   ]
  },
  {
   "cell_type": "code",
   "execution_count": 22,
   "id": "split-uzbekistan",
   "metadata": {},
   "outputs": [
    {
     "name": "stdout",
     "output_type": "stream",
     "text": [
      "tensor(0.9010)\n"
     ]
    }
   ],
   "source": [
    "print(val_reweighted_acc)"
   ]
  },
  {
   "cell_type": "code",
   "execution_count": null,
   "id": "mobile-blackjack",
   "metadata": {},
   "outputs": [],
   "source": []
  }
 ],
 "metadata": {
  "kernelspec": {
   "display_name": "Python 3",
   "language": "python",
   "name": "python3"
  },
  "language_info": {
   "codemirror_mode": {
    "name": "ipython",
    "version": 3
   },
   "file_extension": ".py",
   "mimetype": "text/x-python",
   "name": "python",
   "nbconvert_exporter": "python",
   "pygments_lexer": "ipython3",
   "version": "3.8.8"
  }
 },
 "nbformat": 4,
 "nbformat_minor": 5
}
