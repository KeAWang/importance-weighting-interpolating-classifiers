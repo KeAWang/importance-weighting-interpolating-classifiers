{
 "cells": [
  {
   "cell_type": "code",
   "execution_count": 1,
   "id": "indian-marker",
   "metadata": {},
   "outputs": [],
   "source": [
    "import sys\n",
    "sys.path.append(\"../\")\n",
    "from src.utils.wandb_utils import get_config, config_to_omegaconf\n",
    "\n",
    "%load_ext autoreload\n",
    "%autoreload 2"
   ]
  },
  {
   "cell_type": "code",
   "execution_count": 2,
   "id": "acceptable-cathedral",
   "metadata": {},
   "outputs": [],
   "source": [
    "user = \"kealexanderwang\"\n",
    "project = \"importance-reweighing\"\n",
    "\n",
    "run_names = [\n",
    "    \"brisk-snowflake-186\",\n",
    "]\n",
    "\n",
    "query = {\"displayName\": {\"$in\": run_names}}"
   ]
  },
  {
   "cell_type": "code",
   "execution_count": 11,
   "id": "editorial-sending",
   "metadata": {},
   "outputs": [],
   "source": [
    "from typing import Tuple\n",
    "device = \"cuda\"\n",
    "\n",
    "def init_model(name_config: Tuple[str, dict], ckpt_name=\"last.ckpt\"):\n",
    "    \n",
    "    name, config = name_config\n",
    "    config = config_to_omegaconf(config)\n",
    "    run_dir = config[\"run_dir\"]\n",
    "    ckpt_path = f\"{run_dir}/checkpoints/{ckpt_name}\"\n",
    "    \n",
    "    config.trainer.gpus = 0  # don't use GPU for test time\n",
    "    from src.train import hydra_init\n",
    "    hydra_objs = hydra_init(config)\n",
    "    \n",
    "    model = hydra_objs.model\n",
    "    import torch\n",
    "    ckpt = torch.load(ckpt_path)\n",
    "    model.load_state_dict(ckpt[\"state_dict\"])\n",
    "    model.eval()\n",
    "    model.to(device)\n",
    "    \n",
    "    datamodule = hydra_objs.datamodule\n",
    "    datamodule.setup()\n",
    "    return model, datamodule"
   ]
  },
  {
   "cell_type": "code",
   "execution_count": 4,
   "id": "gothic-moses",
   "metadata": {},
   "outputs": [],
   "source": [
    "name_configs = get_config(user=user, project=project, query=query)"
   ]
  },
  {
   "cell_type": "code",
   "execution_count": 5,
   "id": "greek-ceramic",
   "metadata": {},
   "outputs": [
    {
     "name": "stdout",
     "output_type": "stream",
     "text": [
      "<class 'src.pl_models.imbalanced_classifier_model.ImbalancedClassifierModel'> initialized with unused kwargs: ['params_total', 'params_trainable', 'params_not_trainable']\n"
     ]
    },
    {
     "name": "stderr",
     "output_type": "stream",
     "text": [
      "GPU available: True, used: False\n",
      "TPU available: False, using: 0 TPU cores\n",
      "/home/alex/miniconda3/envs/is/lib/python3.8/site-packages/pytorch_lightning/utilities/distributed.py:68: UserWarning: GPU available but not used. Set the --gpus flag when calling the script.\n",
      "  warnings.warn(*args, **kwargs)\n"
     ]
    }
   ],
   "source": [
    "model_datamodule_lst = [init_model(name_config) for name_config in name_configs]"
   ]
  },
  {
   "cell_type": "code",
   "execution_count": 12,
   "id": "arbitrary-pulse",
   "metadata": {},
   "outputs": [],
   "source": [
    "val_dataset = model_datamodule_lst[0][1].val_dataset\n",
    "test_dataset = model_datamodule_lst[0][1].test_dataset\n",
    "models = [m_d[0] for m_d in model_datamodule_lst]"
   ]
  },
  {
   "cell_type": "markdown",
   "id": "discrete-tennis",
   "metadata": {},
   "source": [
    "# evaluate on test set"
   ]
  },
  {
   "cell_type": "code",
   "execution_count": 14,
   "id": "composite-virtue",
   "metadata": {},
   "outputs": [],
   "source": [
    "import torch\n",
    "from torch.utils.data import DataLoader\n",
    "\n",
    "dataloader = DataLoader(test_dataset, batch_size=16)\n",
    "y_trues = []\n",
    "y_preds = []\n",
    "group_ids = []\n",
    "for x, y, g in dataloader:\n",
    "    x = x.to(device)\n",
    "    y = y.to(device)\n",
    "    \n",
    "    with torch.no_grad():\n",
    "        batch = x, y\n",
    "        _, _, y_pred, _, _ = models[0].step(batch)\n",
    "    \n",
    "    y_trues.append(y)\n",
    "    y_preds.append(y_pred)\n",
    "    group_ids.append(g)\n",
    "    \n",
    "y_trues = torch.cat(y_trues)\n",
    "y_preds = torch.cat(y_preds)\n",
    "group_ids = torch.cat(group_ids)\n",
    "\n",
    "test_acc = (y_trues == y_preds).float().mean().item()"
   ]
  },
  {
   "cell_type": "code",
   "execution_count": 37,
   "id": "sufficient-football",
   "metadata": {},
   "outputs": [],
   "source": [
    "correct = (y_trues == y_preds).float()\n",
    "\n",
    "# Groupby: https://twitter.com/jeremyphoward/status/1185062637341593600\n",
    "idxs, vals = torch.unique(group_ids, return_counts=True)\n",
    "vs = torch.split_with_sizes(correct, tuple(vals))\n",
    "group_accs = {k.item(): v.mean().item() for k, v in zip(idxs, vs)}\n",
    "\n",
    "\n",
    "# Groupby: https://twitter.com/jeremyphoward/status/1185062637341593600\n",
    "idxs, vals = torch.unique(y_trues, return_counts=True)\n",
    "vs = torch.split_with_sizes(correct, tuple(vals))\n",
    "class_accs = {k.item(): v.mean().item() for k, v in zip(idxs, vs)}"
   ]
  },
  {
   "cell_type": "code",
   "execution_count": 38,
   "id": "floating-hours",
   "metadata": {},
   "outputs": [
    {
     "name": "stdout",
     "output_type": "stream",
     "text": [
      "0.8305143117904663\n",
      "{0: 0.8079822659492493, 1: 0.8332594633102417, 2: 0.8862928152084351, 3: 0.8442367315292358}\n",
      "{0: 0.8206208944320679, 1: 0.8652647733688354}\n"
     ]
    }
   ],
   "source": [
    "print(test_acc)\n",
    "print(group_accs)\n",
    "print(class_accs)"
   ]
  },
  {
   "cell_type": "code",
   "execution_count": 24,
   "id": "particular-moses",
   "metadata": {},
   "outputs": [],
   "source": [
    "from collections import Counter\n",
    "test_class_counts = Counter(y_trues.tolist())\n",
    "test_group_counts = Counter(group_ids.tolist())\n",
    "\n",
    "train_class_counts =  Counter({0: 3682, 1: 1113})\n",
    "train_group_counts = Counter({0: 3498, 1: 184, 2: 56, 3: 1057})\n",
    "\n",
    "val_class_counts = Counter({0: 933, 1: 266})\n",
    "val_group_counts = Counter({0: 467, 1: 466, 2: 133, 3: 133})"
   ]
  },
  {
   "cell_type": "code",
   "execution_count": 70,
   "id": "external-standard",
   "metadata": {},
   "outputs": [
    {
     "name": "stdout",
     "output_type": "stream",
     "text": [
      "Counter({0: 4510, 1: 1284})\n",
      "Counter({0: 2255, 1: 2255, 3: 642, 2: 642})\n"
     ]
    },
    {
     "name": "stderr",
     "output_type": "stream",
     "text": [
      "[autoreload of src.pl_datamodules.waterbirds_datamodule failed: Traceback (most recent call last):\n",
      "  File \"/home/alex/miniconda3/envs/is/lib/python3.8/site-packages/IPython/extensions/autoreload.py\", line 245, in check\n",
      "    superreload(m, reload, self.old_objects)\n",
      "  File \"/home/alex/miniconda3/envs/is/lib/python3.8/site-packages/IPython/extensions/autoreload.py\", line 410, in superreload\n",
      "    update_generic(old_obj, new_obj)\n",
      "  File \"/home/alex/miniconda3/envs/is/lib/python3.8/site-packages/IPython/extensions/autoreload.py\", line 347, in update_generic\n",
      "    update(a, b)\n",
      "  File \"/home/alex/miniconda3/envs/is/lib/python3.8/site-packages/IPython/extensions/autoreload.py\", line 302, in update_class\n",
      "    if update_generic(old_obj, new_obj): continue\n",
      "  File \"/home/alex/miniconda3/envs/is/lib/python3.8/site-packages/IPython/extensions/autoreload.py\", line 347, in update_generic\n",
      "    update(a, b)\n",
      "  File \"/home/alex/miniconda3/envs/is/lib/python3.8/site-packages/IPython/extensions/autoreload.py\", line 266, in update_function\n",
      "    setattr(old, name, getattr(new, name))\n",
      "ValueError: prepare_data() requires a code object with 1 free vars, not 0\n",
      "]\n"
     ]
    }
   ],
   "source": [
    "print(test_class_counts)\n",
    "print(test_group_counts)"
   ]
  },
  {
   "cell_type": "code",
   "execution_count": 27,
   "id": "accessory-disabled",
   "metadata": {},
   "outputs": [],
   "source": [
    "def to_ratio(group_dict):\n",
    "    total = sum(group_dict.values())\n",
    "    return {g: count / total for g, count in group_dict.items()}"
   ]
  },
  {
   "cell_type": "code",
   "execution_count": 28,
   "id": "stylish-indonesia",
   "metadata": {},
   "outputs": [],
   "source": [
    "import matplotlib.pyplot as plt\n",
    "import numpy as np\n",
    "%matplotlib inline"
   ]
  },
  {
   "cell_type": "code",
   "execution_count": 69,
   "id": "million-subdivision",
   "metadata": {},
   "outputs": [
    {
     "name": "stderr",
     "output_type": "stream",
     "text": [
      "<ipython-input-69-faf429d7c2d9>:8: UserWarning: FixedFormatter should only be used together with FixedLocator\n",
      "  ax.set(xticklabels=[0, 1, 2, 3], xticks=x, ylim=[0, 1], title=\"SimCLR linear classifer on Waterbirds\", xlabel=\"Group\")\n",
      "<ipython-input-69-faf429d7c2d9>:18: UserWarning: FixedFormatter should only be used together with FixedLocator\n",
      "  ax.set(xticklabels=[0, 1, 2, 3], xticks=x, ylim=[0, 1], title=\"SimCLR linear classifer on Waterbirds\", xlabel=\"Class\")\n"
     ]
    },
    {
     "data": {
      "text/plain": [
       "<matplotlib.legend.Legend at 0x7f8ba051d8b0>"
      ]
     },
     "execution_count": 69,
     "metadata": {},
     "output_type": "execute_result"
    },
    {
     "data": {
      "image/png": "[encoded data removed]",
      "text/plain": [
       "<Figure size 1152x432 with 2 Axes>"
      ]
     },
     "metadata": {
      "needs_background": "light"
     },
     "output_type": "display_data"
    }
   ],
   "source": [
    "fig, axes = plt.subplots(figsize=(16, 6), ncols=2)\n",
    "\n",
    "ax = axes[0]\n",
    "x = np.arange(4)\n",
    "ax.bar(np.array(list((to_ratio(train_group_counts).keys()))) - 0.2, to_ratio(train_group_counts).values(), width=0.2, align=\"center\", label=\"train ratio\")\n",
    "ax.bar(np.array(list(group_accs.keys())) , group_accs.values(), width=0.2, align=\"center\", label=\"test accuracy\")\n",
    "ax.bar(np.array(list(to_ratio(test_group_counts).keys())) + 0.2, to_ratio(test_group_counts).values(), width=0.2, align=\"center\", label=\"test ratio\")\n",
    "ax.set(xticklabels=[0, 1, 2, 3], xticks=x, ylim=[0, 1], title=\"SimCLR linear classifer on Waterbirds\", xlabel=\"Group\")\n",
    "ax.axhline(0.846, color='y', label=\"DRO, strong reg, worst group\")\n",
    "ax.axhline(0.905, color='r', label=\"DRO, strong reg, group adjs, worst group\")\n",
    "ax.legend()\n",
    "\n",
    "ax = axes[1]\n",
    "x = np.arange(2)\n",
    "ax.bar(np.array(list((to_ratio(train_class_counts).keys()))) - 0.2, to_ratio(train_class_counts).values(), width=0.2, align=\"center\", label=\"train ratio\")\n",
    "ax.bar(np.array(list(class_accs.keys())) , class_accs.values(), width=0.2, align=\"center\", label=\"test accuracy\")\n",
    "ax.bar(np.array(list((to_ratio(train_class_counts).keys()))) + 0.2, to_ratio(test_class_counts).values(), width=0.2, align=\"center\", label=\"test ratio\")\n",
    "ax.set(xticklabels=[0, 1, 2, 3], xticks=x, ylim=[0, 1], title=\"SimCLR linear classifer on Waterbirds\", xlabel=\"Class\")\n",
    "ax.legend()"
   ]
  },
  {
   "cell_type": "code",
   "execution_count": 72,
   "id": "increased-importance",
   "metadata": {},
   "outputs": [],
   "source": [
    "fig.savefig(\"simclr-lineaer-waterbirds.pdf\")"
   ]
  },
  {
   "cell_type": "markdown",
   "id": "comfortable-donna",
   "metadata": {},
   "source": [
    "# evaluate on average classifiers"
   ]
  },
  {
   "cell_type": "code",
   "execution_count": 16,
   "id": "authorized-lying",
   "metadata": {},
   "outputs": [],
   "source": [
    "import copy\n",
    "averaged_model = copy.deepcopy(models[0])"
   ]
  },
  {
   "cell_type": "code",
   "execution_count": 21,
   "id": "judicial-project",
   "metadata": {
    "tags": []
   },
   "outputs": [
    {
     "data": {
      "text/plain": [
       "odict_keys(['class_weights', 'architecture.0.weight', 'architecture.0.bias', 'architecture.2.weight', 'architecture.2.bias', 'architecture.5.weight', 'architecture.5.bias', 'architecture.7.weight', 'architecture.7.bias', 'architecture.9.weight', 'architecture.9.bias', 'architecture.13.weight', 'architecture.13.bias', 'architecture.15.weight', 'architecture.15.bias', 'architecture.17.weight', 'architecture.17.bias', 'criterion.weight'])"
      ]
     },
     "execution_count": 21,
     "metadata": {},
     "output_type": "execute_result"
    }
   ],
   "source": [
    "averaged_model.state_dict().keys()"
   ]
  },
  {
   "cell_type": "code",
   "execution_count": 26,
   "id": "worldwide-sleeping",
   "metadata": {},
   "outputs": [],
   "source": [
    "from typing import List, Dict\n",
    "import torch\n",
    "\n",
    "def average_params(target_state_dict: dict, other_state_dicts: List[dict], state_dict_keys: List[str]):\n",
    "    for state_dict_key in state_dict_keys:\n",
    "        other_params = [other[state_dict_key] for other in other_state_dicts]\n",
    "        averaged_params = torch.stack(other_params, axis=0).mean(0)\n",
    "        target_state_dict[state_dict_key] = averaged_params\n",
    "    return target_state_dict"
   ]
  },
  {
   "cell_type": "code",
   "execution_count": 27,
   "id": "strong-apartment",
   "metadata": {},
   "outputs": [
    {
     "data": {
      "text/plain": [
       "<All keys matched successfully>"
      ]
     },
     "execution_count": 27,
     "metadata": {},
     "output_type": "execute_result"
    }
   ],
   "source": [
    "averaged_state_dict = average_params(averaged_model.state_dict(), [m.state_dict() for m in models], [\"architecture.17.weight\", \"architecture.17.bias\"])\n",
    "averaged_model.load_state_dict(averaged_state_dict)"
   ]
  },
  {
   "cell_type": "code",
   "execution_count": 39,
   "id": "detected-eating",
   "metadata": {},
   "outputs": [],
   "source": [
    "import torch\n",
    "from torch.utils.data import DataLoader\n",
    "\n",
    "dataloader = DataLoader(val_dataset, batch_size=256)\n",
    "y_trues = []\n",
    "y_preds = []\n",
    "for x, y in dataloader:\n",
    "    batch = x, y\n",
    "    _, _, y_pred, _ = averaged_model.step(batch)\n",
    "    \n",
    "    y_trues.append(y)\n",
    "    y_preds.append(y_pred)\n",
    "    \n",
    "y_trues = torch.cat(y_trues)\n",
    "y_preds = torch.cat(y_preds)\n",
    "\n",
    "val_acc = (y_trues == y_preds).float().mean().item()\n",
    "\n",
    "val_frac_predicted_pos = (y_preds == 1).sum().item() / len(y_preds)"
   ]
  },
  {
   "cell_type": "code",
   "execution_count": 40,
   "id": "celtic-spanish",
   "metadata": {},
   "outputs": [
    {
     "name": "stdout",
     "output_type": "stream",
     "text": [
      "0.6884999871253967\n"
     ]
    }
   ],
   "source": [
    "print(val_acc)"
   ]
  },
  {
   "cell_type": "code",
   "execution_count": 41,
   "id": "clinical-maldives",
   "metadata": {},
   "outputs": [
    {
     "name": "stdout",
     "output_type": "stream",
     "text": [
      "0.7395\n"
     ]
    }
   ],
   "source": [
    "print(val_frac_predicted_pos)"
   ]
  }
 ],
 "metadata": {
  "kernelspec": {
   "display_name": "Python 3",
   "language": "python",
   "name": "python3"
  },
  "language_info": {
   "codemirror_mode": {
    "name": "ipython",
    "version": 3
   },
   "file_extension": ".py",
   "mimetype": "text/x-python",
   "name": "python",
   "nbconvert_exporter": "python",
   "pygments_lexer": "ipython3",
   "version": "3.8.8"
  }
 },
 "nbformat": 4,
 "nbformat_minor": 5
}
