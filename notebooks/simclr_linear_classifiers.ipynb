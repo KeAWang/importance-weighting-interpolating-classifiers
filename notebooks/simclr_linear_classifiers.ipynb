{
 "cells": [
  {
   "cell_type": "code",
   "execution_count": 1,
   "id": "concerned-dining",
   "metadata": {},
   "outputs": [],
   "source": [
    "import sys\n",
    "sys.path.append(\"../\")\n",
    "from src.utils.wandb_utils import get_config, config_to_omegaconf\n",
    "\n",
    "%load_ext autoreload\n",
    "%autoreload 2"
   ]
  },
  {
   "cell_type": "code",
   "execution_count": 2,
   "id": "damaged-wealth",
   "metadata": {},
   "outputs": [],
   "source": [
    "import matplotlib.pyplot as plt\n",
    "import numpy as np\n",
    "%matplotlib inline"
   ]
  },
  {
   "cell_type": "code",
   "execution_count": 3,
   "id": "heavy-marks",
   "metadata": {},
   "outputs": [],
   "source": [
    "user = \"kealexanderwang\"\n",
    "project = \"importance-reweighing\"\n",
    "\n",
    "run_names = [\n",
    "    \"divine-frog-189\", # resampled\n",
    "    \"fluent-field-198\", # basic erm\n",
    "]\n",
    "\n",
    "query = {\"displayName\": {\"$in\": run_names}}"
   ]
  },
  {
   "cell_type": "code",
   "execution_count": 4,
   "id": "collaborative-notification",
   "metadata": {},
   "outputs": [],
   "source": [
    "from typing import Tuple\n",
    "device = \"cuda\"\n",
    "\n",
    "def init_model(name_config: Tuple[str, dict], ckpt_name=\"last.ckpt\"):\n",
    "    \n",
    "    name, config = name_config\n",
    "    config = config_to_omegaconf(config)\n",
    "    run_dir = config[\"run_dir\"]\n",
    "    ckpt_path = f\"{run_dir}/checkpoints/{ckpt_name}\"\n",
    "    \n",
    "    config.trainer.gpus = 0  # don't use GPU for test time\n",
    "    from src.train import hydra_init\n",
    "    hydra_objs = hydra_init(config)\n",
    "    \n",
    "    model = hydra_objs.model\n",
    "    import torch\n",
    "    ckpt = torch.load(ckpt_path)\n",
    "    model.load_state_dict(ckpt[\"state_dict\"])\n",
    "    model.eval()\n",
    "    model.to(device)\n",
    "    \n",
    "    datamodule = hydra_objs.datamodule\n",
    "    datamodule.setup()\n",
    "    return model, datamodule"
   ]
  },
  {
   "cell_type": "code",
   "execution_count": 5,
   "id": "published-enforcement",
   "metadata": {},
   "outputs": [],
   "source": [
    "name_configs = get_config(user=user, project=project, query=query)"
   ]
  },
  {
   "cell_type": "code",
   "execution_count": 6,
   "id": "focal-words",
   "metadata": {},
   "outputs": [
    {
     "name": "stdout",
     "output_type": "stream",
     "text": [
      "<class 'src.pl_models.imbalanced_classifier_model.ImbalancedClassifierModel'> initialized with unused kwargs: ['params_total', 'params_trainable', 'params_not_trainable']\n",
      "Freezing feature extractor\n",
      "Resetting final linear layer\n"
     ]
    },
    {
     "name": "stderr",
     "output_type": "stream",
     "text": [
      "GPU available: True, used: False\n",
      "TPU available: False, using: 0 TPU cores\n",
      "/u/nlp/anaconda/main/anaconda3/envs/is/lib/python3.8/site-packages/pytorch_lightning/utilities/distributed.py:68: UserWarning: GPU available but not used. Set the --gpus flag when calling the script.\n",
      "  warnings.warn(*args, **kwargs)\n",
      "GPU available: True, used: False\n",
      "TPU available: False, using: 0 TPU cores\n"
     ]
    },
    {
     "name": "stdout",
     "output_type": "stream",
     "text": [
      "<class 'src.pl_models.imbalanced_classifier_model.ImbalancedClassifierModel'> initialized with unused kwargs: ['params_total', 'params_trainable', 'params_not_trainable']\n",
      "Freezing feature extractor\n",
      "Resetting final linear layer\n"
     ]
    },
    {
     "name": "stderr",
     "output_type": "stream",
     "text": [
      "../src/datasets/utils.py:233: UserWarning: To copy construct from a tensor, it is recommended to use sourceTensor.clone().detach() or sourceTensor.clone().detach().requires_grad_(True), rather than torch.tensor(sourceTensor).\n",
      "  weights = torch.tensor(weights)\n"
     ]
    }
   ],
   "source": [
    "model_datamodule_lst = [init_model(name_config) for name_config in name_configs]"
   ]
  },
  {
   "cell_type": "code",
   "execution_count": 7,
   "id": "thousand-means",
   "metadata": {},
   "outputs": [],
   "source": [
    "val_dataset = model_datamodule_lst[0][1].val_dataset\n",
    "test_dataset = model_datamodule_lst[0][1].test_dataset\n",
    "models = [m_d[0] for m_d in model_datamodule_lst]"
   ]
  },
  {
   "cell_type": "code",
   "execution_count": 8,
   "id": "hungry-perception",
   "metadata": {},
   "outputs": [],
   "source": [
    "def to_ratio(group_dict):\n",
    "    total = sum(group_dict.values())\n",
    "    return {g: count / total for g, count in group_dict.items()}"
   ]
  },
  {
   "cell_type": "code",
   "execution_count": 9,
   "id": "invisible-florist",
   "metadata": {},
   "outputs": [],
   "source": [
    "models = [m.to(device) for m in models]"
   ]
  },
  {
   "cell_type": "markdown",
   "id": "forced-invitation",
   "metadata": {},
   "source": [
    "# evaluate erm model on test set"
   ]
  },
  {
   "cell_type": "code",
   "execution_count": 10,
   "id": "tutorial-crest",
   "metadata": {},
   "outputs": [],
   "source": [
    "import torch\n",
    "from torch.utils.data import DataLoader\n",
    "\n",
    "dataloader = DataLoader(test_dataset, batch_size=16)\n",
    "y_trues = []\n",
    "y_preds = []\n",
    "group_ids = []\n",
    "for x, y, g in dataloader:\n",
    "    x = x.to(device)\n",
    "    y = y.to(device)\n",
    "    \n",
    "    with torch.no_grad():\n",
    "        batch = x, y\n",
    "        _, _, y_pred, _, _ = models[1].step(batch)\n",
    "    \n",
    "    y_trues.append(y)\n",
    "    y_preds.append(y_pred)\n",
    "    group_ids.append(g)\n",
    "    \n",
    "y_trues = torch.cat(y_trues)\n",
    "y_preds = torch.cat(y_preds)\n",
    "group_ids = torch.cat(group_ids)\n",
    "\n",
    "test_acc = (y_trues == y_preds).float().mean().item()"
   ]
  },
  {
   "cell_type": "code",
   "execution_count": 11,
   "id": "embedded-indie",
   "metadata": {},
   "outputs": [],
   "source": [
    "correct = (y_trues == y_preds).float()\n",
    "\n",
    "# Groupby: https://twitter.com/jeremyphoward/status/1185062637341593600\n",
    "idxs, vals = torch.unique(group_ids, return_counts=True)\n",
    "vs = torch.split_with_sizes(correct, tuple(vals))\n",
    "group_accs = {k.item(): v.mean().item() for k, v in zip(idxs, vs)}\n",
    "\n",
    "\n",
    "# Groupby: https://twitter.com/jeremyphoward/status/1185062637341593600\n",
    "idxs, vals = torch.unique(y_trues, return_counts=True)\n",
    "vs = torch.split_with_sizes(correct, tuple(vals))\n",
    "class_accs = {k.item(): v.mean().item() for k, v in zip(idxs, vs)}"
   ]
  },
  {
   "cell_type": "code",
   "execution_count": 12,
   "id": "aboriginal-institute",
   "metadata": {},
   "outputs": [
    {
     "name": "stdout",
     "output_type": "stream",
     "text": [
      "0.803589940071106\n",
      "{0: 0.8075388073921204, 1: 0.8079822659492493, 2: 0.8473520278930664, 3: 0.7305295467376709}\n",
      "{0: 0.8077605366706848, 1: 0.7889407873153687}\n"
     ]
    }
   ],
   "source": [
    "print(test_acc)\n",
    "print(group_accs)\n",
    "print(class_accs)"
   ]
  },
  {
   "cell_type": "code",
   "execution_count": 13,
   "id": "human-punishment",
   "metadata": {},
   "outputs": [],
   "source": [
    "from collections import Counter\n",
    "test_class_counts = Counter(y_trues.tolist())\n",
    "test_group_counts = Counter(group_ids.tolist())\n",
    "\n",
    "train_class_counts =  Counter({0: 3682, 1: 1113})\n",
    "train_group_counts = Counter({0: 3498, 1: 184, 2: 56, 3: 1057})\n",
    "\n",
    "val_class_counts = Counter({0: 933, 1: 266})\n",
    "val_group_counts = Counter({0: 467, 1: 466, 2: 133, 3: 133})"
   ]
  },
  {
   "cell_type": "code",
   "execution_count": 14,
   "id": "rotary-performer",
   "metadata": {},
   "outputs": [
    {
     "name": "stdout",
     "output_type": "stream",
     "text": [
      "Counter({0: 4510, 1: 1284})\n",
      "Counter({0: 2255, 1: 2255, 3: 642, 2: 642})\n"
     ]
    }
   ],
   "source": [
    "print(test_class_counts)\n",
    "print(test_group_counts)"
   ]
  },
  {
   "cell_type": "code",
   "execution_count": 15,
   "id": "terminal-convention",
   "metadata": {},
   "outputs": [],
   "source": [
    "import matplotlib.pyplot as plt\n",
    "import numpy as np\n",
    "%matplotlib inline"
   ]
  },
  {
   "cell_type": "code",
   "execution_count": 16,
   "id": "colored-integration",
   "metadata": {},
   "outputs": [
    {
     "name": "stderr",
     "output_type": "stream",
     "text": [
      "<ipython-input-16-d24bd709f5b9>:8: UserWarning: FixedFormatter should only be used together with FixedLocator\n",
      "  ax.set(xticklabels=[0, 1, 2, 3], xticks=x, ylim=[0, 1], title=\"SimCLR linear classifer on Waterbirds\", xlabel=\"Group\")\n",
      "<ipython-input-16-d24bd709f5b9>:18: UserWarning: FixedFormatter should only be used together with FixedLocator\n",
      "  ax.set(xticklabels=[0, 1, 2, 3], xticks=x, ylim=[0, 1], title=\"SimCLR linear classifer on Waterbirds\", xlabel=\"Class\")\n"
     ]
    },
    {
     "data": {
      "text/plain": [
       "<matplotlib.legend.Legend at 0x7f1827ec3eb0>"
      ]
     },
     "execution_count": 16,
     "metadata": {},
     "output_type": "execute_result"
    },
    {
     "data": {
      "image/png": "[encoded data removed]",
      "text/plain": [
       "<Figure size 1152x432 with 2 Axes>"
      ]
     },
     "metadata": {
      "needs_background": "light"
     },
     "output_type": "display_data"
    }
   ],
   "source": [
    "fig, axes = plt.subplots(figsize=(16, 6), ncols=2)\n",
    "\n",
    "ax = axes[0]\n",
    "x = np.arange(4)\n",
    "ax.bar(np.array(list((to_ratio(train_group_counts).keys()))) - 0.2, to_ratio(train_group_counts).values(), width=0.2, align=\"center\", label=\"train ratio\")\n",
    "ax.bar(np.array(list(group_accs.keys())) , group_accs.values(), width=0.2, align=\"center\", label=\"test accuracy\")\n",
    "ax.bar(np.array(list(to_ratio(test_group_counts).keys())) + 0.2, to_ratio(test_group_counts).values(), width=0.2, align=\"center\", label=\"test ratio\")\n",
    "ax.set(xticklabels=[0, 1, 2, 3], xticks=x, ylim=[0, 1], title=\"SimCLR linear classifer on Waterbirds\", xlabel=\"Group\")\n",
    "ax.axhline(0.846, color='y', label=\"DRO, strong reg, worst group\")\n",
    "ax.axhline(0.905, color='r', label=\"DRO, strong reg, group adjs, worst group\")\n",
    "ax.legend()\n",
    "\n",
    "ax = axes[1]\n",
    "x = np.arange(2)\n",
    "ax.bar(np.array(list((to_ratio(train_class_counts).keys()))) - 0.2, to_ratio(train_class_counts).values(), width=0.2, align=\"center\", label=\"train ratio\")\n",
    "ax.bar(np.array(list(class_accs.keys())) , class_accs.values(), width=0.2, align=\"center\", label=\"test accuracy\")\n",
    "ax.bar(np.array(list((to_ratio(test_class_counts).keys()))) + 0.2, to_ratio(test_class_counts).values(), width=0.2, align=\"center\", label=\"test ratio\")\n",
    "ax.set(xticklabels=[0, 1, 2, 3], xticks=x, ylim=[0, 1], title=\"SimCLR linear classifer on Waterbirds\", xlabel=\"Class\")\n",
    "ax.legend()"
   ]
  },
  {
   "cell_type": "markdown",
   "id": "functioning-generation",
   "metadata": {},
   "source": [
    "# evaluate resampled model"
   ]
  },
  {
   "cell_type": "code",
   "execution_count": 17,
   "id": "prepared-evening",
   "metadata": {},
   "outputs": [],
   "source": [
    "import torch\n",
    "from torch.utils.data import DataLoader\n",
    "\n",
    "dataloader = DataLoader(test_dataset, batch_size=16)\n",
    "y_trues = []\n",
    "y_preds = []\n",
    "group_ids = []\n",
    "for x, y, g in dataloader:\n",
    "    x = x.to(device)\n",
    "    y = y.to(device)\n",
    "    \n",
    "    with torch.no_grad():\n",
    "        batch = x, y\n",
    "        _, _, y_pred, _, _ = models[0].step(batch)\n",
    "    \n",
    "    y_trues.append(y)\n",
    "    y_preds.append(y_pred)\n",
    "    group_ids.append(g)\n",
    "    \n",
    "y_trues = torch.cat(y_trues)\n",
    "y_preds = torch.cat(y_preds)\n",
    "group_ids = torch.cat(group_ids)\n",
    "\n",
    "test_acc = (y_trues == y_preds).float().mean().item()"
   ]
  },
  {
   "cell_type": "code",
   "execution_count": 18,
   "id": "satellite-rebecca",
   "metadata": {},
   "outputs": [],
   "source": [
    "correct = (y_trues == y_preds).float()\n",
    "\n",
    "# Groupby: https://twitter.com/jeremyphoward/status/1185062637341593600\n",
    "idxs, vals = torch.unique(group_ids, return_counts=True)\n",
    "vs = torch.split_with_sizes(correct, tuple(vals))\n",
    "group_accs = {k.item(): v.mean().item() for k, v in zip(idxs, vs)}\n",
    "\n",
    "\n",
    "# Groupby: https://twitter.com/jeremyphoward/status/1185062637341593600\n",
    "idxs, vals = torch.unique(y_trues, return_counts=True)\n",
    "vs = torch.split_with_sizes(correct, tuple(vals))\n",
    "class_accs = {k.item(): v.mean().item() for k, v in zip(idxs, vs)}"
   ]
  },
  {
   "cell_type": "code",
   "execution_count": 19,
   "id": "victorian-supervisor",
   "metadata": {},
   "outputs": [
    {
     "name": "stdout",
     "output_type": "stream",
     "text": [
      "0.7973765730857849\n",
      "{0: 0.7782705426216125, 1: 0.7960088849067688, 2: 0.867601215839386, 3: 0.7990654110908508}\n",
      "{0: 0.7871397137641907, 1: 0.8333333134651184}\n"
     ]
    }
   ],
   "source": [
    "print(test_acc)\n",
    "print(group_accs)\n",
    "print(class_accs)"
   ]
  },
  {
   "cell_type": "code",
   "execution_count": 20,
   "id": "lyric-jordan",
   "metadata": {},
   "outputs": [],
   "source": [
    "from collections import Counter\n",
    "test_class_counts = Counter(y_trues.tolist())\n",
    "test_group_counts = Counter(group_ids.tolist())\n",
    "\n",
    "train_class_counts =  None\n",
    "train_group_counts = None\n",
    "\n",
    "val_class_counts = Counter({0: 933, 1: 266})\n",
    "val_group_counts = Counter({0: 467, 1: 466, 2: 133, 3: 133})"
   ]
  },
  {
   "cell_type": "code",
   "execution_count": 21,
   "id": "unnecessary-enterprise",
   "metadata": {},
   "outputs": [
    {
     "name": "stdout",
     "output_type": "stream",
     "text": [
      "Counter({0: 4510, 1: 1284})\n",
      "Counter({0: 2255, 1: 2255, 3: 642, 2: 642})\n"
     ]
    }
   ],
   "source": [
    "print(test_class_counts)\n",
    "print(test_group_counts)"
   ]
  },
  {
   "cell_type": "code",
   "execution_count": 26,
   "id": "beginning-traffic",
   "metadata": {},
   "outputs": [
    {
     "name": "stderr",
     "output_type": "stream",
     "text": [
      "<ipython-input-26-6d95d0c9de20>:8: UserWarning: FixedFormatter should only be used together with FixedLocator\n",
      "  ax.set(xticklabels=[0, 1, 2, 3], xticks=x, ylim=[0, 1], title=\"SimCLR resampled linear classifer on Waterbirds\", xlabel=\"Group\")\n",
      "<ipython-input-26-6d95d0c9de20>:18: UserWarning: FixedFormatter should only be used together with FixedLocator\n",
      "  ax.set(xticklabels=[0, 1, 2, 3], xticks=x, ylim=[0, 1], title=\"SimCLR resampled linear classifer on Waterbirds\", xlabel=\"Class\")\n"
     ]
    },
    {
     "data": {
      "text/plain": [
       "<matplotlib.legend.Legend at 0x7f1827217190>"
      ]
     },
     "execution_count": 26,
     "metadata": {},
     "output_type": "execute_result"
    },
    {
     "data": {
      "image/png": "[encoded data removed]",
      "text/plain": [
       "<Figure size 1152x432 with 2 Axes>"
      ]
     },
     "metadata": {
      "needs_background": "light"
     },
     "output_type": "display_data"
    }
   ],
   "source": [
    "fig, axes = plt.subplots(figsize=(16, 6), ncols=2)\n",
    "\n",
    "ax = axes[0]\n",
    "x = np.arange(4)\n",
    "ax.bar(np.arange(4) - 0.2, np.ones(4), width=0.2, align=\"center\", label=\"train ratio\")\n",
    "ax.bar(np.array(list(group_accs.keys())) , group_accs.values(), width=0.2, align=\"center\", label=\"test accuracy\")\n",
    "ax.bar(np.array(list(to_ratio(test_group_counts).keys())) + 0.2, to_ratio(test_group_counts).values(), width=0.2, align=\"center\", label=\"test ratio\")\n",
    "ax.set(xticklabels=[0, 1, 2, 3], xticks=x, ylim=[0, 1], title=\"SimCLR resampled linear classifer on Waterbirds\", xlabel=\"Group\")\n",
    "ax.axhline(0.846, color='y', label=\"DRO, strong reg, worst group\")\n",
    "ax.axhline(0.905, color='r', label=\"DRO, strong reg, group adjs, worst group\")\n",
    "ax.legend()\n",
    "\n",
    "ax = axes[1]\n",
    "x = np.arange(2)\n",
    "ax.bar(np.arange(2) - 0.2, np.ones(2), width=0.2, align=\"center\", label=\"train ratio\")\n",
    "ax.bar(np.array(list(class_accs.keys())) , class_accs.values(), width=0.2, align=\"center\", label=\"test accuracy\")\n",
    "ax.bar(np.array(list((to_ratio(test_class_counts).keys()))) + 0.2, to_ratio(test_class_counts).values(), width=0.2, align=\"center\", label=\"test ratio\")\n",
    "ax.set(xticklabels=[0, 1, 2, 3], xticks=x, ylim=[0, 1], title=\"SimCLR resampled linear classifer on Waterbirds\", xlabel=\"Class\")\n",
    "ax.legend()"
   ]
  },
  {
   "cell_type": "code",
   "execution_count": null,
   "id": "under-oregon",
   "metadata": {},
   "outputs": [],
   "source": []
  }
 ],
 "metadata": {
  "kernelspec": {
   "display_name": "Python 3",
   "language": "python",
   "name": "python3"
  },
  "language_info": {
   "codemirror_mode": {
    "name": "ipython",
    "version": 3
   },
   "file_extension": ".py",
   "mimetype": "text/x-python",
   "name": "python",
   "nbconvert_exporter": "python",
   "pygments_lexer": "ipython3",
   "version": "3.8.8"
  }
 },
 "nbformat": 4,
 "nbformat_minor": 5
}
