{
 "cells": [
  {
   "cell_type": "code",
   "execution_count": 1,
   "id": "sorted-discretion",
   "metadata": {},
   "outputs": [],
   "source": [
    "import sys\n",
    "sys.path.append(\"../\")\n",
    "from src.utils.wandb_utils import get_config, config_to_omegaconf\n",
    "\n",
    "%load_ext autoreload\n",
    "%autoreload 2"
   ]
  },
  {
   "cell_type": "code",
   "execution_count": 2,
   "id": "initial-design",
   "metadata": {},
   "outputs": [],
   "source": [
    "import matplotlib.pyplot as plt\n",
    "import numpy as np\n",
    "%matplotlib inline"
   ]
  },
  {
   "cell_type": "code",
   "execution_count": 3,
   "id": "automatic-cover",
   "metadata": {},
   "outputs": [],
   "source": [
    "user = \"kealexanderwang\"\n",
    "project = \"importance-reweighing\"\n",
    "\n",
    "run_names = [\n",
    "    \"quiet-sun-197\",\n",
    "    \"efficient-pine-196\",\n",
    "    \"lunar-plasma-195\",\n",
    "    \"stilted-voice-191\",\n",
    "]\n",
    "\n",
    "query = {\"displayName\": {\"$in\": run_names}}"
   ]
  },
  {
   "cell_type": "code",
   "execution_count": 4,
   "id": "cheap-superior",
   "metadata": {},
   "outputs": [],
   "source": [
    "from typing import Tuple\n",
    "device = \"cuda\"\n",
    "\n",
    "def init_model(name_config: Tuple[str, dict], ckpt_name=\"last.ckpt\"):\n",
    "    \n",
    "    name, config = name_config\n",
    "    config = config_to_omegaconf(config)\n",
    "    run_dir = config[\"run_dir\"]\n",
    "    ckpt_path = f\"{run_dir}/checkpoints/{ckpt_name}\"\n",
    "    \n",
    "    config.trainer.gpus = 0  # don't use GPU for test time\n",
    "    from src.train import hydra_init\n",
    "    hydra_objs = hydra_init(config)\n",
    "    \n",
    "    model = hydra_objs.model\n",
    "    import torch\n",
    "    ckpt = torch.load(ckpt_path)\n",
    "    model.load_state_dict(ckpt[\"state_dict\"])\n",
    "    model.eval()\n",
    "    model.to(device)\n",
    "    \n",
    "    datamodule = hydra_objs.datamodule\n",
    "    datamodule.setup()\n",
    "    return model, datamodule"
   ]
  },
  {
   "cell_type": "code",
   "execution_count": 5,
   "id": "pending-bathroom",
   "metadata": {},
   "outputs": [],
   "source": [
    "name_configs = get_config(user=user, project=project, query=query)"
   ]
  },
  {
   "cell_type": "code",
   "execution_count": 6,
   "id": "acknowledged-rates",
   "metadata": {},
   "outputs": [
    {
     "ename": "KeyboardInterrupt",
     "evalue": "",
     "output_type": "error",
     "traceback": [
      "\u001b[0;31m---------------------------------------------------------------------------\u001b[0m",
      "\u001b[0;31mKeyboardInterrupt\u001b[0m                         Traceback (most recent call last)",
      "\u001b[0;32m<ipython-input-6-fb08a2f7aec0>\u001b[0m in \u001b[0;36m<module>\u001b[0;34m\u001b[0m\n\u001b[0;32m----> 1\u001b[0;31m \u001b[0mmodel_datamodule_lst\u001b[0m \u001b[0;34m=\u001b[0m \u001b[0;34m[\u001b[0m\u001b[0minit_model\u001b[0m\u001b[0;34m(\u001b[0m\u001b[0mname_config\u001b[0m\u001b[0;34m)\u001b[0m \u001b[0;32mfor\u001b[0m \u001b[0mname_config\u001b[0m \u001b[0;32min\u001b[0m \u001b[0mname_configs\u001b[0m\u001b[0;34m]\u001b[0m\u001b[0;34m\u001b[0m\u001b[0;34m\u001b[0m\u001b[0m\n\u001b[0m",
      "\u001b[0;32m<ipython-input-6-fb08a2f7aec0>\u001b[0m in \u001b[0;36m<listcomp>\u001b[0;34m(.0)\u001b[0m\n\u001b[0;32m----> 1\u001b[0;31m \u001b[0mmodel_datamodule_lst\u001b[0m \u001b[0;34m=\u001b[0m \u001b[0;34m[\u001b[0m\u001b[0minit_model\u001b[0m\u001b[0;34m(\u001b[0m\u001b[0mname_config\u001b[0m\u001b[0;34m)\u001b[0m \u001b[0;32mfor\u001b[0m \u001b[0mname_config\u001b[0m \u001b[0;32min\u001b[0m \u001b[0mname_configs\u001b[0m\u001b[0;34m]\u001b[0m\u001b[0;34m\u001b[0m\u001b[0;34m\u001b[0m\u001b[0m\n\u001b[0m",
      "\u001b[0;32m<ipython-input-4-c71c6cf44ae5>\u001b[0m in \u001b[0;36minit_model\u001b[0;34m(name_config, ckpt_name)\u001b[0m\n\u001b[1;32m      5\u001b[0m \u001b[0;34m\u001b[0m\u001b[0m\n\u001b[1;32m      6\u001b[0m     \u001b[0mname\u001b[0m\u001b[0;34m,\u001b[0m \u001b[0mconfig\u001b[0m \u001b[0;34m=\u001b[0m \u001b[0mname_config\u001b[0m\u001b[0;34m\u001b[0m\u001b[0;34m\u001b[0m\u001b[0m\n\u001b[0;32m----> 7\u001b[0;31m     \u001b[0mconfig\u001b[0m \u001b[0;34m=\u001b[0m \u001b[0mconfig_to_omegaconf\u001b[0m\u001b[0;34m(\u001b[0m\u001b[0mconfig\u001b[0m\u001b[0;34m)\u001b[0m\u001b[0;34m\u001b[0m\u001b[0;34m\u001b[0m\u001b[0m\n\u001b[0m\u001b[1;32m      8\u001b[0m     \u001b[0mrun_dir\u001b[0m \u001b[0;34m=\u001b[0m \u001b[0mconfig\u001b[0m\u001b[0;34m[\u001b[0m\u001b[0;34m\"run_dir\"\u001b[0m\u001b[0;34m]\u001b[0m\u001b[0;34m\u001b[0m\u001b[0;34m\u001b[0m\u001b[0m\n\u001b[1;32m      9\u001b[0m     \u001b[0mckpt_path\u001b[0m \u001b[0;34m=\u001b[0m \u001b[0;34mf\"{run_dir}/checkpoints/{ckpt_name}\"\u001b[0m\u001b[0;34m\u001b[0m\u001b[0;34m\u001b[0m\u001b[0m\n",
      "\u001b[0;32m/juice/u/alexkw/repos/importance-reweighing/src/utils/wandb_utils.py\u001b[0m in \u001b[0;36mconfig_to_omegaconf\u001b[0;34m(config)\u001b[0m\n\u001b[1;32m     49\u001b[0m \u001b[0;34m\u001b[0m\u001b[0m\n\u001b[1;32m     50\u001b[0m \u001b[0;32mdef\u001b[0m \u001b[0mconfig_to_omegaconf\u001b[0m\u001b[0;34m(\u001b[0m\u001b[0mconfig\u001b[0m\u001b[0;34m:\u001b[0m \u001b[0mdict\u001b[0m\u001b[0;34m)\u001b[0m\u001b[0;34m:\u001b[0m\u001b[0;34m\u001b[0m\u001b[0;34m\u001b[0m\u001b[0m\n\u001b[0;32m---> 51\u001b[0;31m     \u001b[0;32mfrom\u001b[0m \u001b[0momegaconf\u001b[0m \u001b[0;32mimport\u001b[0m \u001b[0mOmegaConf\u001b[0m\u001b[0;34m\u001b[0m\u001b[0;34m\u001b[0m\u001b[0m\n\u001b[0m\u001b[1;32m     52\u001b[0m \u001b[0;34m\u001b[0m\u001b[0m\n\u001b[1;32m     53\u001b[0m     \u001b[0mkeys\u001b[0m\u001b[0;34m,\u001b[0m \u001b[0mvalues\u001b[0m \u001b[0;34m=\u001b[0m \u001b[0mzip\u001b[0m\u001b[0;34m(\u001b[0m\u001b[0;34m*\u001b[0m\u001b[0mconfig\u001b[0m\u001b[0;34m.\u001b[0m\u001b[0mitems\u001b[0m\u001b[0;34m(\u001b[0m\u001b[0;34m)\u001b[0m\u001b[0;34m)\u001b[0m\u001b[0;34m\u001b[0m\u001b[0;34m\u001b[0m\u001b[0m\n",
      "\u001b[0;32m/u/nlp/anaconda/main/anaconda3/envs/is/lib/python3.8/site-packages/omegaconf/__init__.py\u001b[0m in \u001b[0;36m<module>\u001b[0;34m\u001b[0m\n\u001b[0;32m----> 1\u001b[0;31m \u001b[0;32mfrom\u001b[0m \u001b[0;34m.\u001b[0m\u001b[0mbase\u001b[0m \u001b[0;32mimport\u001b[0m \u001b[0mContainer\u001b[0m\u001b[0;34m,\u001b[0m \u001b[0mDictKeyType\u001b[0m\u001b[0;34m,\u001b[0m \u001b[0mNode\u001b[0m\u001b[0;34m,\u001b[0m \u001b[0mSCMode\u001b[0m\u001b[0;34m\u001b[0m\u001b[0;34m\u001b[0m\u001b[0m\n\u001b[0m\u001b[1;32m      2\u001b[0m \u001b[0;32mfrom\u001b[0m \u001b[0;34m.\u001b[0m\u001b[0mdictconfig\u001b[0m \u001b[0;32mimport\u001b[0m \u001b[0mDictConfig\u001b[0m\u001b[0;34m\u001b[0m\u001b[0;34m\u001b[0m\u001b[0m\n\u001b[1;32m      3\u001b[0m from .errors import (\n\u001b[1;32m      4\u001b[0m     \u001b[0mKeyValidationError\u001b[0m\u001b[0;34m,\u001b[0m\u001b[0;34m\u001b[0m\u001b[0;34m\u001b[0m\u001b[0m\n\u001b[1;32m      5\u001b[0m     \u001b[0mMissingMandatoryValue\u001b[0m\u001b[0;34m,\u001b[0m\u001b[0;34m\u001b[0m\u001b[0;34m\u001b[0m\u001b[0m\n",
      "\u001b[0;32m/u/nlp/anaconda/main/anaconda3/envs/is/lib/python3.8/site-packages/omegaconf/base.py\u001b[0m in \u001b[0;36m<module>\u001b[0;34m\u001b[0m\n\u001b[1;32m      7\u001b[0m \u001b[0;32mfrom\u001b[0m \u001b[0mtyping\u001b[0m \u001b[0;32mimport\u001b[0m \u001b[0mAny\u001b[0m\u001b[0;34m,\u001b[0m \u001b[0mDict\u001b[0m\u001b[0;34m,\u001b[0m \u001b[0mIterator\u001b[0m\u001b[0;34m,\u001b[0m \u001b[0mList\u001b[0m\u001b[0;34m,\u001b[0m \u001b[0mOptional\u001b[0m\u001b[0;34m,\u001b[0m \u001b[0mTuple\u001b[0m\u001b[0;34m,\u001b[0m \u001b[0mType\u001b[0m\u001b[0;34m,\u001b[0m \u001b[0mUnion\u001b[0m\u001b[0;34m\u001b[0m\u001b[0;34m\u001b[0m\u001b[0m\n\u001b[1;32m      8\u001b[0m \u001b[0;34m\u001b[0m\u001b[0m\n\u001b[0;32m----> 9\u001b[0;31m \u001b[0;32mfrom\u001b[0m \u001b[0mantlr4\u001b[0m \u001b[0;32mimport\u001b[0m \u001b[0mParserRuleContext\u001b[0m\u001b[0;34m\u001b[0m\u001b[0;34m\u001b[0m\u001b[0m\n\u001b[0m\u001b[1;32m     10\u001b[0m \u001b[0;34m\u001b[0m\u001b[0m\n\u001b[1;32m     11\u001b[0m from ._utils import (\n",
      "\u001b[0;32m/u/nlp/anaconda/main/anaconda3/envs/is/lib/python3.8/site-packages/antlr4/__init__.py\u001b[0m in \u001b[0;36m<module>\u001b[0;34m\u001b[0m\n\u001b[1;32m      4\u001b[0m \u001b[0;32mfrom\u001b[0m \u001b[0mantlr4\u001b[0m\u001b[0;34m.\u001b[0m\u001b[0mStdinStream\u001b[0m \u001b[0;32mimport\u001b[0m \u001b[0mStdinStream\u001b[0m\u001b[0;34m\u001b[0m\u001b[0;34m\u001b[0m\u001b[0m\n\u001b[1;32m      5\u001b[0m \u001b[0;32mfrom\u001b[0m \u001b[0mantlr4\u001b[0m\u001b[0;34m.\u001b[0m\u001b[0mBufferedTokenStream\u001b[0m \u001b[0;32mimport\u001b[0m \u001b[0mTokenStream\u001b[0m\u001b[0;34m\u001b[0m\u001b[0;34m\u001b[0m\u001b[0m\n\u001b[0;32m----> 6\u001b[0;31m \u001b[0;32mfrom\u001b[0m \u001b[0mantlr4\u001b[0m\u001b[0;34m.\u001b[0m\u001b[0mCommonTokenStream\u001b[0m \u001b[0;32mimport\u001b[0m \u001b[0mCommonTokenStream\u001b[0m\u001b[0;34m\u001b[0m\u001b[0;34m\u001b[0m\u001b[0m\n\u001b[0m\u001b[1;32m      7\u001b[0m \u001b[0;32mfrom\u001b[0m \u001b[0mantlr4\u001b[0m\u001b[0;34m.\u001b[0m\u001b[0mLexer\u001b[0m \u001b[0;32mimport\u001b[0m \u001b[0mLexer\u001b[0m\u001b[0;34m\u001b[0m\u001b[0;34m\u001b[0m\u001b[0m\n\u001b[1;32m      8\u001b[0m \u001b[0;32mfrom\u001b[0m \u001b[0mantlr4\u001b[0m\u001b[0;34m.\u001b[0m\u001b[0mParser\u001b[0m \u001b[0;32mimport\u001b[0m \u001b[0mParser\u001b[0m\u001b[0;34m\u001b[0m\u001b[0;34m\u001b[0m\u001b[0m\n",
      "\u001b[0;32m/u/nlp/anaconda/main/anaconda3/envs/is/lib/python3.8/site-packages/antlr4/CommonTokenStream.py\u001b[0m in \u001b[0;36m<module>\u001b[0;34m\u001b[0m\n\u001b[1;32m     31\u001b[0m \u001b[0;34m\u001b[0m\u001b[0m\n\u001b[1;32m     32\u001b[0m \u001b[0;32mfrom\u001b[0m \u001b[0mantlr4\u001b[0m\u001b[0;34m.\u001b[0m\u001b[0mBufferedTokenStream\u001b[0m \u001b[0;32mimport\u001b[0m \u001b[0mBufferedTokenStream\u001b[0m\u001b[0;34m\u001b[0m\u001b[0;34m\u001b[0m\u001b[0m\n\u001b[0;32m---> 33\u001b[0;31m \u001b[0;32mfrom\u001b[0m \u001b[0mantlr4\u001b[0m\u001b[0;34m.\u001b[0m\u001b[0mLexer\u001b[0m \u001b[0;32mimport\u001b[0m \u001b[0mLexer\u001b[0m\u001b[0;34m\u001b[0m\u001b[0;34m\u001b[0m\u001b[0m\n\u001b[0m\u001b[1;32m     34\u001b[0m \u001b[0;32mfrom\u001b[0m \u001b[0mantlr4\u001b[0m\u001b[0;34m.\u001b[0m\u001b[0mToken\u001b[0m \u001b[0;32mimport\u001b[0m \u001b[0mToken\u001b[0m\u001b[0;34m\u001b[0m\u001b[0;34m\u001b[0m\u001b[0m\n\u001b[1;32m     35\u001b[0m \u001b[0;34m\u001b[0m\u001b[0m\n",
      "\u001b[0;32m/u/nlp/anaconda/main/anaconda3/envs/is/lib/python3.8/site-packages/antlr4/Lexer.py\u001b[0m in \u001b[0;36m<module>\u001b[0;34m\u001b[0m\n\u001b[1;32m     13\u001b[0m \u001b[0;32mimport\u001b[0m \u001b[0msys\u001b[0m\u001b[0;34m\u001b[0m\u001b[0;34m\u001b[0m\u001b[0m\n\u001b[1;32m     14\u001b[0m \u001b[0;32mfrom\u001b[0m \u001b[0mantlr4\u001b[0m\u001b[0;34m.\u001b[0m\u001b[0mCommonTokenFactory\u001b[0m \u001b[0;32mimport\u001b[0m \u001b[0mCommonTokenFactory\u001b[0m\u001b[0;34m\u001b[0m\u001b[0;34m\u001b[0m\u001b[0m\n\u001b[0;32m---> 15\u001b[0;31m \u001b[0;32mfrom\u001b[0m \u001b[0mantlr4\u001b[0m\u001b[0;34m.\u001b[0m\u001b[0matn\u001b[0m\u001b[0;34m.\u001b[0m\u001b[0mLexerATNSimulator\u001b[0m \u001b[0;32mimport\u001b[0m \u001b[0mLexerATNSimulator\u001b[0m\u001b[0;34m\u001b[0m\u001b[0;34m\u001b[0m\u001b[0m\n\u001b[0m\u001b[1;32m     16\u001b[0m \u001b[0;32mfrom\u001b[0m \u001b[0mantlr4\u001b[0m\u001b[0;34m.\u001b[0m\u001b[0mInputStream\u001b[0m \u001b[0;32mimport\u001b[0m \u001b[0mInputStream\u001b[0m\u001b[0;34m\u001b[0m\u001b[0;34m\u001b[0m\u001b[0m\n\u001b[1;32m     17\u001b[0m \u001b[0;32mfrom\u001b[0m \u001b[0mantlr4\u001b[0m\u001b[0;34m.\u001b[0m\u001b[0mRecognizer\u001b[0m \u001b[0;32mimport\u001b[0m \u001b[0mRecognizer\u001b[0m\u001b[0;34m\u001b[0m\u001b[0;34m\u001b[0m\u001b[0m\n",
      "\u001b[0;32m/u/nlp/anaconda/main/anaconda3/envs/is/lib/python3.8/site-packages/antlr4/atn/LexerATNSimulator.py\u001b[0m in \u001b[0;36m<module>\u001b[0;34m\u001b[0m\n\u001b[1;32m     21\u001b[0m \u001b[0;31m#/\u001b[0m\u001b[0;34m\u001b[0m\u001b[0;34m\u001b[0m\u001b[0;34m\u001b[0m\u001b[0m\n\u001b[1;32m     22\u001b[0m \u001b[0;34m\u001b[0m\u001b[0m\n\u001b[0;32m---> 23\u001b[0;31m \u001b[0;32mfrom\u001b[0m \u001b[0mantlr4\u001b[0m\u001b[0;34m.\u001b[0m\u001b[0mPredictionContext\u001b[0m \u001b[0;32mimport\u001b[0m \u001b[0mPredictionContextCache\u001b[0m\u001b[0;34m,\u001b[0m \u001b[0mSingletonPredictionContext\u001b[0m\u001b[0;34m,\u001b[0m \u001b[0mPredictionContext\u001b[0m\u001b[0;34m\u001b[0m\u001b[0;34m\u001b[0m\u001b[0m\n\u001b[0m\u001b[1;32m     24\u001b[0m \u001b[0;32mfrom\u001b[0m \u001b[0mantlr4\u001b[0m\u001b[0;34m.\u001b[0m\u001b[0mInputStream\u001b[0m \u001b[0;32mimport\u001b[0m \u001b[0mInputStream\u001b[0m\u001b[0;34m\u001b[0m\u001b[0;34m\u001b[0m\u001b[0m\n\u001b[1;32m     25\u001b[0m \u001b[0;32mfrom\u001b[0m \u001b[0mantlr4\u001b[0m\u001b[0;34m.\u001b[0m\u001b[0mToken\u001b[0m \u001b[0;32mimport\u001b[0m \u001b[0mToken\u001b[0m\u001b[0;34m\u001b[0m\u001b[0;34m\u001b[0m\u001b[0m\n",
      "\u001b[0;32m/u/nlp/anaconda/main/anaconda3/envs/is/lib/python3.8/site-packages/antlr4/PredictionContext.py\u001b[0m in \u001b[0;36m<module>\u001b[0;34m\u001b[0m\n\u001b[1;32m      9\u001b[0m \u001b[0;34m\u001b[0m\u001b[0m\n\u001b[1;32m     10\u001b[0m \u001b[0;32mfrom\u001b[0m \u001b[0mantlr4\u001b[0m\u001b[0;34m.\u001b[0m\u001b[0mRuleContext\u001b[0m \u001b[0;32mimport\u001b[0m \u001b[0mRuleContext\u001b[0m\u001b[0;34m\u001b[0m\u001b[0;34m\u001b[0m\u001b[0m\n\u001b[0;32m---> 11\u001b[0;31m \u001b[0;32mfrom\u001b[0m \u001b[0mantlr4\u001b[0m\u001b[0;34m.\u001b[0m\u001b[0matn\u001b[0m\u001b[0;34m.\u001b[0m\u001b[0mATN\u001b[0m \u001b[0;32mimport\u001b[0m \u001b[0mATN\u001b[0m\u001b[0;34m\u001b[0m\u001b[0;34m\u001b[0m\u001b[0m\n\u001b[0m\u001b[1;32m     12\u001b[0m \u001b[0;32mfrom\u001b[0m \u001b[0mantlr4\u001b[0m\u001b[0;34m.\u001b[0m\u001b[0matn\u001b[0m\u001b[0;34m.\u001b[0m\u001b[0mATNState\u001b[0m \u001b[0;32mimport\u001b[0m \u001b[0mATNState\u001b[0m\u001b[0;34m\u001b[0m\u001b[0;34m\u001b[0m\u001b[0m\n\u001b[1;32m     13\u001b[0m \u001b[0;34m\u001b[0m\u001b[0m\n",
      "\u001b[0;32m/u/nlp/anaconda/main/anaconda3/envs/is/lib/python3.8/site-packages/antlr4/atn/ATN.py\u001b[0m in \u001b[0;36m<module>\u001b[0;34m\u001b[0m\n\u001b[1;32m      9\u001b[0m \u001b[0;32mfrom\u001b[0m \u001b[0mantlr4\u001b[0m\u001b[0;34m.\u001b[0m\u001b[0mToken\u001b[0m \u001b[0;32mimport\u001b[0m \u001b[0mToken\u001b[0m\u001b[0;34m\u001b[0m\u001b[0;34m\u001b[0m\u001b[0m\n\u001b[1;32m     10\u001b[0m \u001b[0;32mfrom\u001b[0m \u001b[0mantlr4\u001b[0m\u001b[0;34m.\u001b[0m\u001b[0matn\u001b[0m\u001b[0;34m.\u001b[0m\u001b[0mATNType\u001b[0m \u001b[0;32mimport\u001b[0m \u001b[0mATNType\u001b[0m\u001b[0;34m\u001b[0m\u001b[0;34m\u001b[0m\u001b[0m\n\u001b[0;32m---> 11\u001b[0;31m \u001b[0;32mfrom\u001b[0m \u001b[0mantlr4\u001b[0m\u001b[0;34m.\u001b[0m\u001b[0matn\u001b[0m\u001b[0;34m.\u001b[0m\u001b[0mATNState\u001b[0m \u001b[0;32mimport\u001b[0m \u001b[0mATNState\u001b[0m\u001b[0;34m,\u001b[0m \u001b[0mDecisionState\u001b[0m\u001b[0;34m\u001b[0m\u001b[0;34m\u001b[0m\u001b[0m\n\u001b[0m\u001b[1;32m     12\u001b[0m \u001b[0;34m\u001b[0m\u001b[0m\n\u001b[1;32m     13\u001b[0m \u001b[0;34m\u001b[0m\u001b[0m\n",
      "\u001b[0;32m/u/nlp/anaconda/main/anaconda3/envs/is/lib/python3.8/site-packages/antlr4/atn/ATNState.py\u001b[0m in \u001b[0;36m<module>\u001b[0;34m\u001b[0m\n\u001b[1;32m     65\u001b[0m \u001b[0;31m#\u001b[0m\u001b[0;34m\u001b[0m\u001b[0;34m\u001b[0m\u001b[0;34m\u001b[0m\u001b[0m\n\u001b[1;32m     66\u001b[0m \u001b[0;34m\u001b[0m\u001b[0m\n\u001b[0;32m---> 67\u001b[0;31m \u001b[0;32mfrom\u001b[0m \u001b[0mantlr4\u001b[0m\u001b[0;34m.\u001b[0m\u001b[0matn\u001b[0m\u001b[0;34m.\u001b[0m\u001b[0mTransition\u001b[0m \u001b[0;32mimport\u001b[0m \u001b[0mTransition\u001b[0m\u001b[0;34m\u001b[0m\u001b[0;34m\u001b[0m\u001b[0m\n\u001b[0m\u001b[1;32m     68\u001b[0m \u001b[0;34m\u001b[0m\u001b[0m\n\u001b[1;32m     69\u001b[0m \u001b[0mINITIAL_NUM_TRANSITIONS\u001b[0m \u001b[0;34m=\u001b[0m \u001b[0;36m4\u001b[0m\u001b[0;34m\u001b[0m\u001b[0;34m\u001b[0m\u001b[0m\n",
      "\u001b[0;32m/u/nlp/anaconda/main/anaconda3/envs/is/lib/python3.8/importlib/_bootstrap.py\u001b[0m in \u001b[0;36m_find_and_load\u001b[0;34m(name, import_)\u001b[0m\n",
      "\u001b[0;32m/u/nlp/anaconda/main/anaconda3/envs/is/lib/python3.8/importlib/_bootstrap.py\u001b[0m in \u001b[0;36m_find_and_load_unlocked\u001b[0;34m(name, import_)\u001b[0m\n",
      "\u001b[0;32m/u/nlp/anaconda/main/anaconda3/envs/is/lib/python3.8/importlib/_bootstrap.py\u001b[0m in \u001b[0;36m_load_unlocked\u001b[0;34m(spec)\u001b[0m\n",
      "\u001b[0;32m/u/nlp/anaconda/main/anaconda3/envs/is/lib/python3.8/importlib/_bootstrap_external.py\u001b[0m in \u001b[0;36mexec_module\u001b[0;34m(self, module)\u001b[0m\n",
      "\u001b[0;32m/u/nlp/anaconda/main/anaconda3/envs/is/lib/python3.8/importlib/_bootstrap_external.py\u001b[0m in \u001b[0;36mget_code\u001b[0;34m(self, fullname)\u001b[0m\n",
      "\u001b[0;32m/u/nlp/anaconda/main/anaconda3/envs/is/lib/python3.8/importlib/_bootstrap_external.py\u001b[0m in \u001b[0;36mget_data\u001b[0;34m(self, path)\u001b[0m\n",
      "\u001b[0;31mKeyboardInterrupt\u001b[0m: "
     ]
    }
   ],
   "source": [
    "model_datamodule_lst = [init_model(name_config) for name_config in name_configs]"
   ]
  },
  {
   "cell_type": "code",
   "execution_count": null,
   "id": "superb-barrel",
   "metadata": {},
   "outputs": [],
   "source": [
    "val_dataset = model_datamodule_lst[0][1].val_dataset\n",
    "test_dataset = model_datamodule_lst[0][1].test_dataset\n",
    "models = [m_d[0] for m_d in model_datamodule_lst]"
   ]
  },
  {
   "cell_type": "code",
   "execution_count": null,
   "id": "criminal-ordering",
   "metadata": {},
   "outputs": [],
   "source": [
    "def to_ratio(group_dict):\n",
    "    total = sum(group_dict.values())\n",
    "    return {g: count / total for g, count in group_dict.items()}"
   ]
  },
  {
   "cell_type": "markdown",
   "id": "worth-class",
   "metadata": {},
   "source": [
    "# evaluate on average classifiers"
   ]
  },
  {
   "cell_type": "code",
   "execution_count": 8,
   "id": "signed-quality",
   "metadata": {},
   "outputs": [],
   "source": [
    "import copy\n",
    "averaged_model = copy.deepcopy(models[0])"
   ]
  },
  {
   "cell_type": "code",
   "execution_count": 9,
   "id": "wound-quantity",
   "metadata": {
    "collapsed": true,
    "jupyter": {
     "outputs_hidden": true
    },
    "tags": []
   },
   "outputs": [
    {
     "data": {
      "text/plain": [
       "odict_keys(['class_weights', 'architecture.conv1.weight', 'architecture.bn1.weight', 'architecture.bn1.bias', 'architecture.bn1.running_mean', 'architecture.bn1.running_var', 'architecture.bn1.num_batches_tracked', 'architecture.layer1.0.downsample.0.weight', 'architecture.layer1.0.downsample.1.weight', 'architecture.layer1.0.downsample.1.bias', 'architecture.layer1.0.downsample.1.running_mean', 'architecture.layer1.0.downsample.1.running_var', 'architecture.layer1.0.downsample.1.num_batches_tracked', 'architecture.layer1.0.conv1.weight', 'architecture.layer1.0.bn1.weight', 'architecture.layer1.0.bn1.bias', 'architecture.layer1.0.bn1.running_mean', 'architecture.layer1.0.bn1.running_var', 'architecture.layer1.0.bn1.num_batches_tracked', 'architecture.layer1.0.conv2.weight', 'architecture.layer1.0.bn2.weight', 'architecture.layer1.0.bn2.bias', 'architecture.layer1.0.bn2.running_mean', 'architecture.layer1.0.bn2.running_var', 'architecture.layer1.0.bn2.num_batches_tracked', 'architecture.layer1.0.conv3.weight', 'architecture.layer1.0.bn3.weight', 'architecture.layer1.0.bn3.bias', 'architecture.layer1.0.bn3.running_mean', 'architecture.layer1.0.bn3.running_var', 'architecture.layer1.0.bn3.num_batches_tracked', 'architecture.layer1.1.conv1.weight', 'architecture.layer1.1.bn1.weight', 'architecture.layer1.1.bn1.bias', 'architecture.layer1.1.bn1.running_mean', 'architecture.layer1.1.bn1.running_var', 'architecture.layer1.1.bn1.num_batches_tracked', 'architecture.layer1.1.conv2.weight', 'architecture.layer1.1.bn2.weight', 'architecture.layer1.1.bn2.bias', 'architecture.layer1.1.bn2.running_mean', 'architecture.layer1.1.bn2.running_var', 'architecture.layer1.1.bn2.num_batches_tracked', 'architecture.layer1.1.conv3.weight', 'architecture.layer1.1.bn3.weight', 'architecture.layer1.1.bn3.bias', 'architecture.layer1.1.bn3.running_mean', 'architecture.layer1.1.bn3.running_var', 'architecture.layer1.1.bn3.num_batches_tracked', 'architecture.layer1.2.conv1.weight', 'architecture.layer1.2.bn1.weight', 'architecture.layer1.2.bn1.bias', 'architecture.layer1.2.bn1.running_mean', 'architecture.layer1.2.bn1.running_var', 'architecture.layer1.2.bn1.num_batches_tracked', 'architecture.layer1.2.conv2.weight', 'architecture.layer1.2.bn2.weight', 'architecture.layer1.2.bn2.bias', 'architecture.layer1.2.bn2.running_mean', 'architecture.layer1.2.bn2.running_var', 'architecture.layer1.2.bn2.num_batches_tracked', 'architecture.layer1.2.conv3.weight', 'architecture.layer1.2.bn3.weight', 'architecture.layer1.2.bn3.bias', 'architecture.layer1.2.bn3.running_mean', 'architecture.layer1.2.bn3.running_var', 'architecture.layer1.2.bn3.num_batches_tracked', 'architecture.layer2.0.downsample.0.weight', 'architecture.layer2.0.downsample.1.weight', 'architecture.layer2.0.downsample.1.bias', 'architecture.layer2.0.downsample.1.running_mean', 'architecture.layer2.0.downsample.1.running_var', 'architecture.layer2.0.downsample.1.num_batches_tracked', 'architecture.layer2.0.conv1.weight', 'architecture.layer2.0.bn1.weight', 'architecture.layer2.0.bn1.bias', 'architecture.layer2.0.bn1.running_mean', 'architecture.layer2.0.bn1.running_var', 'architecture.layer2.0.bn1.num_batches_tracked', 'architecture.layer2.0.conv2.weight', 'architecture.layer2.0.bn2.weight', 'architecture.layer2.0.bn2.bias', 'architecture.layer2.0.bn2.running_mean', 'architecture.layer2.0.bn2.running_var', 'architecture.layer2.0.bn2.num_batches_tracked', 'architecture.layer2.0.conv3.weight', 'architecture.layer2.0.bn3.weight', 'architecture.layer2.0.bn3.bias', 'architecture.layer2.0.bn3.running_mean', 'architecture.layer2.0.bn3.running_var', 'architecture.layer2.0.bn3.num_batches_tracked', 'architecture.layer2.1.conv1.weight', 'architecture.layer2.1.bn1.weight', 'architecture.layer2.1.bn1.bias', 'architecture.layer2.1.bn1.running_mean', 'architecture.layer2.1.bn1.running_var', 'architecture.layer2.1.bn1.num_batches_tracked', 'architecture.layer2.1.conv2.weight', 'architecture.layer2.1.bn2.weight', 'architecture.layer2.1.bn2.bias', 'architecture.layer2.1.bn2.running_mean', 'architecture.layer2.1.bn2.running_var', 'architecture.layer2.1.bn2.num_batches_tracked', 'architecture.layer2.1.conv3.weight', 'architecture.layer2.1.bn3.weight', 'architecture.layer2.1.bn3.bias', 'architecture.layer2.1.bn3.running_mean', 'architecture.layer2.1.bn3.running_var', 'architecture.layer2.1.bn3.num_batches_tracked', 'architecture.layer2.2.conv1.weight', 'architecture.layer2.2.bn1.weight', 'architecture.layer2.2.bn1.bias', 'architecture.layer2.2.bn1.running_mean', 'architecture.layer2.2.bn1.running_var', 'architecture.layer2.2.bn1.num_batches_tracked', 'architecture.layer2.2.conv2.weight', 'architecture.layer2.2.bn2.weight', 'architecture.layer2.2.bn2.bias', 'architecture.layer2.2.bn2.running_mean', 'architecture.layer2.2.bn2.running_var', 'architecture.layer2.2.bn2.num_batches_tracked', 'architecture.layer2.2.conv3.weight', 'architecture.layer2.2.bn3.weight', 'architecture.layer2.2.bn3.bias', 'architecture.layer2.2.bn3.running_mean', 'architecture.layer2.2.bn3.running_var', 'architecture.layer2.2.bn3.num_batches_tracked', 'architecture.layer2.3.conv1.weight', 'architecture.layer2.3.bn1.weight', 'architecture.layer2.3.bn1.bias', 'architecture.layer2.3.bn1.running_mean', 'architecture.layer2.3.bn1.running_var', 'architecture.layer2.3.bn1.num_batches_tracked', 'architecture.layer2.3.conv2.weight', 'architecture.layer2.3.bn2.weight', 'architecture.layer2.3.bn2.bias', 'architecture.layer2.3.bn2.running_mean', 'architecture.layer2.3.bn2.running_var', 'architecture.layer2.3.bn2.num_batches_tracked', 'architecture.layer2.3.conv3.weight', 'architecture.layer2.3.bn3.weight', 'architecture.layer2.3.bn3.bias', 'architecture.layer2.3.bn3.running_mean', 'architecture.layer2.3.bn3.running_var', 'architecture.layer2.3.bn3.num_batches_tracked', 'architecture.layer3.0.downsample.0.weight', 'architecture.layer3.0.downsample.1.weight', 'architecture.layer3.0.downsample.1.bias', 'architecture.layer3.0.downsample.1.running_mean', 'architecture.layer3.0.downsample.1.running_var', 'architecture.layer3.0.downsample.1.num_batches_tracked', 'architecture.layer3.0.conv1.weight', 'architecture.layer3.0.bn1.weight', 'architecture.layer3.0.bn1.bias', 'architecture.layer3.0.bn1.running_mean', 'architecture.layer3.0.bn1.running_var', 'architecture.layer3.0.bn1.num_batches_tracked', 'architecture.layer3.0.conv2.weight', 'architecture.layer3.0.bn2.weight', 'architecture.layer3.0.bn2.bias', 'architecture.layer3.0.bn2.running_mean', 'architecture.layer3.0.bn2.running_var', 'architecture.layer3.0.bn2.num_batches_tracked', 'architecture.layer3.0.conv3.weight', 'architecture.layer3.0.bn3.weight', 'architecture.layer3.0.bn3.bias', 'architecture.layer3.0.bn3.running_mean', 'architecture.layer3.0.bn3.running_var', 'architecture.layer3.0.bn3.num_batches_tracked', 'architecture.layer3.1.conv1.weight', 'architecture.layer3.1.bn1.weight', 'architecture.layer3.1.bn1.bias', 'architecture.layer3.1.bn1.running_mean', 'architecture.layer3.1.bn1.running_var', 'architecture.layer3.1.bn1.num_batches_tracked', 'architecture.layer3.1.conv2.weight', 'architecture.layer3.1.bn2.weight', 'architecture.layer3.1.bn2.bias', 'architecture.layer3.1.bn2.running_mean', 'architecture.layer3.1.bn2.running_var', 'architecture.layer3.1.bn2.num_batches_tracked', 'architecture.layer3.1.conv3.weight', 'architecture.layer3.1.bn3.weight', 'architecture.layer3.1.bn3.bias', 'architecture.layer3.1.bn3.running_mean', 'architecture.layer3.1.bn3.running_var', 'architecture.layer3.1.bn3.num_batches_tracked', 'architecture.layer3.2.conv1.weight', 'architecture.layer3.2.bn1.weight', 'architecture.layer3.2.bn1.bias', 'architecture.layer3.2.bn1.running_mean', 'architecture.layer3.2.bn1.running_var', 'architecture.layer3.2.bn1.num_batches_tracked', 'architecture.layer3.2.conv2.weight', 'architecture.layer3.2.bn2.weight', 'architecture.layer3.2.bn2.bias', 'architecture.layer3.2.bn2.running_mean', 'architecture.layer3.2.bn2.running_var', 'architecture.layer3.2.bn2.num_batches_tracked', 'architecture.layer3.2.conv3.weight', 'architecture.layer3.2.bn3.weight', 'architecture.layer3.2.bn3.bias', 'architecture.layer3.2.bn3.running_mean', 'architecture.layer3.2.bn3.running_var', 'architecture.layer3.2.bn3.num_batches_tracked', 'architecture.layer3.3.conv1.weight', 'architecture.layer3.3.bn1.weight', 'architecture.layer3.3.bn1.bias', 'architecture.layer3.3.bn1.running_mean', 'architecture.layer3.3.bn1.running_var', 'architecture.layer3.3.bn1.num_batches_tracked', 'architecture.layer3.3.conv2.weight', 'architecture.layer3.3.bn2.weight', 'architecture.layer3.3.bn2.bias', 'architecture.layer3.3.bn2.running_mean', 'architecture.layer3.3.bn2.running_var', 'architecture.layer3.3.bn2.num_batches_tracked', 'architecture.layer3.3.conv3.weight', 'architecture.layer3.3.bn3.weight', 'architecture.layer3.3.bn3.bias', 'architecture.layer3.3.bn3.running_mean', 'architecture.layer3.3.bn3.running_var', 'architecture.layer3.3.bn3.num_batches_tracked', 'architecture.layer3.4.conv1.weight', 'architecture.layer3.4.bn1.weight', 'architecture.layer3.4.bn1.bias', 'architecture.layer3.4.bn1.running_mean', 'architecture.layer3.4.bn1.running_var', 'architecture.layer3.4.bn1.num_batches_tracked', 'architecture.layer3.4.conv2.weight', 'architecture.layer3.4.bn2.weight', 'architecture.layer3.4.bn2.bias', 'architecture.layer3.4.bn2.running_mean', 'architecture.layer3.4.bn2.running_var', 'architecture.layer3.4.bn2.num_batches_tracked', 'architecture.layer3.4.conv3.weight', 'architecture.layer3.4.bn3.weight', 'architecture.layer3.4.bn3.bias', 'architecture.layer3.4.bn3.running_mean', 'architecture.layer3.4.bn3.running_var', 'architecture.layer3.4.bn3.num_batches_tracked', 'architecture.layer3.5.conv1.weight', 'architecture.layer3.5.bn1.weight', 'architecture.layer3.5.bn1.bias', 'architecture.layer3.5.bn1.running_mean', 'architecture.layer3.5.bn1.running_var', 'architecture.layer3.5.bn1.num_batches_tracked', 'architecture.layer3.5.conv2.weight', 'architecture.layer3.5.bn2.weight', 'architecture.layer3.5.bn2.bias', 'architecture.layer3.5.bn2.running_mean', 'architecture.layer3.5.bn2.running_var', 'architecture.layer3.5.bn2.num_batches_tracked', 'architecture.layer3.5.conv3.weight', 'architecture.layer3.5.bn3.weight', 'architecture.layer3.5.bn3.bias', 'architecture.layer3.5.bn3.running_mean', 'architecture.layer3.5.bn3.running_var', 'architecture.layer3.5.bn3.num_batches_tracked', 'architecture.layer4.0.downsample.0.weight', 'architecture.layer4.0.downsample.1.weight', 'architecture.layer4.0.downsample.1.bias', 'architecture.layer4.0.downsample.1.running_mean', 'architecture.layer4.0.downsample.1.running_var', 'architecture.layer4.0.downsample.1.num_batches_tracked', 'architecture.layer4.0.conv1.weight', 'architecture.layer4.0.bn1.weight', 'architecture.layer4.0.bn1.bias', 'architecture.layer4.0.bn1.running_mean', 'architecture.layer4.0.bn1.running_var', 'architecture.layer4.0.bn1.num_batches_tracked', 'architecture.layer4.0.conv2.weight', 'architecture.layer4.0.bn2.weight', 'architecture.layer4.0.bn2.bias', 'architecture.layer4.0.bn2.running_mean', 'architecture.layer4.0.bn2.running_var', 'architecture.layer4.0.bn2.num_batches_tracked', 'architecture.layer4.0.conv3.weight', 'architecture.layer4.0.bn3.weight', 'architecture.layer4.0.bn3.bias', 'architecture.layer4.0.bn3.running_mean', 'architecture.layer4.0.bn3.running_var', 'architecture.layer4.0.bn3.num_batches_tracked', 'architecture.layer4.1.conv1.weight', 'architecture.layer4.1.bn1.weight', 'architecture.layer4.1.bn1.bias', 'architecture.layer4.1.bn1.running_mean', 'architecture.layer4.1.bn1.running_var', 'architecture.layer4.1.bn1.num_batches_tracked', 'architecture.layer4.1.conv2.weight', 'architecture.layer4.1.bn2.weight', 'architecture.layer4.1.bn2.bias', 'architecture.layer4.1.bn2.running_mean', 'architecture.layer4.1.bn2.running_var', 'architecture.layer4.1.bn2.num_batches_tracked', 'architecture.layer4.1.conv3.weight', 'architecture.layer4.1.bn3.weight', 'architecture.layer4.1.bn3.bias', 'architecture.layer4.1.bn3.running_mean', 'architecture.layer4.1.bn3.running_var', 'architecture.layer4.1.bn3.num_batches_tracked', 'architecture.layer4.2.conv1.weight', 'architecture.layer4.2.bn1.weight', 'architecture.layer4.2.bn1.bias', 'architecture.layer4.2.bn1.running_mean', 'architecture.layer4.2.bn1.running_var', 'architecture.layer4.2.bn1.num_batches_tracked', 'architecture.layer4.2.conv2.weight', 'architecture.layer4.2.bn2.weight', 'architecture.layer4.2.bn2.bias', 'architecture.layer4.2.bn2.running_mean', 'architecture.layer4.2.bn2.running_var', 'architecture.layer4.2.bn2.num_batches_tracked', 'architecture.layer4.2.conv3.weight', 'architecture.layer4.2.bn3.weight', 'architecture.layer4.2.bn3.bias', 'architecture.layer4.2.bn3.running_mean', 'architecture.layer4.2.bn3.running_var', 'architecture.layer4.2.bn3.num_batches_tracked', 'architecture.fc.weight', 'architecture.fc.bias', 'loss_fn.weight'])"
      ]
     },
     "execution_count": 9,
     "metadata": {},
     "output_type": "execute_result"
    }
   ],
   "source": [
    "averaged_model.state_dict().keys()"
   ]
  },
  {
   "cell_type": "code",
   "execution_count": 10,
   "id": "every-diesel",
   "metadata": {},
   "outputs": [],
   "source": [
    "from typing import List, Dict\n",
    "import torch\n",
    "\n",
    "def average_params(target_state_dict: dict, other_state_dicts: List[dict], state_dict_keys: List[str]):\n",
    "    for state_dict_key in state_dict_keys:\n",
    "        other_params = [other[state_dict_key] for other in other_state_dicts]\n",
    "        averaged_params = torch.stack(other_params, axis=0).mean(0)\n",
    "        target_state_dict[state_dict_key] = averaged_params\n",
    "    return target_state_dict"
   ]
  },
  {
   "cell_type": "code",
   "execution_count": 11,
   "id": "likely-semiconductor",
   "metadata": {},
   "outputs": [
    {
     "data": {
      "text/plain": [
       "<All keys matched successfully>"
      ]
     },
     "execution_count": 11,
     "metadata": {},
     "output_type": "execute_result"
    }
   ],
   "source": [
    "averaged_state_dict = average_params(averaged_model.state_dict(), [m.state_dict() for m in models], [\"architecture.fc.weight\", \"architecture.fc.bias\"])\n",
    "averaged_model.load_state_dict(averaged_state_dict)"
   ]
  },
  {
   "cell_type": "code",
   "execution_count": null,
   "id": "extended-insert",
   "metadata": {},
   "outputs": [],
   "source": [
    "import torch\n",
    "from torch.utils.data import DataLoader\n",
    "\n",
    "averaged_model = averaged_model.to(device)\n",
    "\n",
    "dataloader = DataLoader(test_dataset, batch_size=16)\n",
    "y_trues = []\n",
    "y_preds = []\n",
    "group_ids = []\n",
    "for x, y, g in dataloader:\n",
    "    x = x.to(device)\n",
    "    y = y.to(device)\n",
    "    \n",
    "    with torch.no_grad():\n",
    "        batch = x, y\n",
    "        _, _, y_pred, _, _ = averaged_model.step(batch)\n",
    "    \n",
    "    y_trues.append(y)\n",
    "    y_preds.append(y_pred)\n",
    "    group_ids.append(g)\n",
    "    \n",
    "y_trues = torch.cat(y_trues)\n",
    "y_preds = torch.cat(y_preds)\n",
    "group_ids = torch.cat(group_ids)\n",
    "\n",
    "test_acc = (y_trues == y_preds).float().mean().item()"
   ]
  },
  {
   "cell_type": "code",
   "execution_count": 14,
   "id": "charming-perception",
   "metadata": {},
   "outputs": [],
   "source": [
    "correct = (y_trues == y_preds).float()\n",
    "\n",
    "# Groupby: https://twitter.com/jeremyphoward/status/1185062637341593600\n",
    "idxs, vals = torch.unique(group_ids, return_counts=True)\n",
    "vs = torch.split_with_sizes(correct, tuple(vals))\n",
    "group_accs = {k.item(): v.mean().item() for k, v in zip(idxs, vs)}\n",
    "\n",
    "\n",
    "# Groupby: https://twitter.com/jeremyphoward/status/1185062637341593600\n",
    "idxs, vals = torch.unique(y_trues, return_counts=True)\n",
    "vs = torch.split_with_sizes(correct, tuple(vals))\n",
    "class_accs = {k.item(): v.mean().item() for k, v in zip(idxs, vs)}"
   ]
  },
  {
   "cell_type": "code",
   "execution_count": 15,
   "id": "signed-russia",
   "metadata": {},
   "outputs": [
    {
     "name": "stdout",
     "output_type": "stream",
     "text": [
      "0.45253708958625793\n",
      "{0: 0.5263858437538147, 1: 0.488248348236084, 2: 0.35981306433677673, 3: 0.16043613851070404}\n",
      "{0: 0.507317066192627, 1: 0.2601245939731598}\n"
     ]
    }
   ],
   "source": [
    "print(test_acc)\n",
    "print(group_accs)\n",
    "print(class_accs)"
   ]
  },
  {
   "cell_type": "code",
   "execution_count": 16,
   "id": "western-acceptance",
   "metadata": {},
   "outputs": [],
   "source": [
    "from collections import Counter\n",
    "test_class_counts = Counter(y_trues.tolist())\n",
    "test_group_counts = Counter(group_ids.tolist())"
   ]
  },
  {
   "cell_type": "code",
   "execution_count": 23,
   "id": "dominican-shape",
   "metadata": {},
   "outputs": [
    {
     "name": "stderr",
     "output_type": "stream",
     "text": [
      "<ipython-input-23-94d128356039>:7: UserWarning: FixedFormatter should only be used together with FixedLocator\n",
      "  ax.set(xticklabels=[0, 1, 2, 3], xticks=x, ylim=[0, 1], title=\"SimCLR averaged undersampled linear classifer on Waterbirds\", xlabel=\"Group\")\n",
      "<ipython-input-23-94d128356039>:16: UserWarning: FixedFormatter should only be used together with FixedLocator\n",
      "  ax.set(xticklabels=[0, 1, 2, 3], xticks=x, ylim=[0, 1], title=\"SimCLR averaged undersampled linear classifer linear classifer on Waterbirds\", xlabel=\"Class\")\n"
     ]
    },
    {
     "data": {
      "text/plain": [
       "<matplotlib.legend.Legend at 0x7f97d4b75af0>"
      ]
     },
     "execution_count": 23,
     "metadata": {},
     "output_type": "execute_result"
    },
    {
     "data": {
      "image/png": "[encoded data removed]",
      "text/plain": [
       "<Figure size 1152x432 with 2 Axes>"
      ]
     },
     "metadata": {
      "needs_background": "light"
     },
     "output_type": "display_data"
    }
   ],
   "source": [
    "fig, axes = plt.subplots(figsize=(16, 6), ncols=2)\n",
    "\n",
    "ax = axes[0]\n",
    "x = np.arange(4)\n",
    "ax.bar(np.array(list(group_accs.keys())) - 0.1, group_accs.values(), width=0.2, align=\"center\", label=\"test accuracy\")\n",
    "ax.bar(np.array(list(to_ratio(test_group_counts).keys())) + 0.1, to_ratio(test_group_counts).values(), width=0.2, align=\"center\", label=\"test ratio\")\n",
    "ax.set(xticklabels=[0, 1, 2, 3], xticks=x, ylim=[0, 1], title=\"SimCLR averaged undersampled linear classifer on Waterbirds\", xlabel=\"Group\")\n",
    "ax.axhline(0.846, color='y', label=\"DRO, strong reg, worst group\")\n",
    "ax.axhline(0.905, color='r', label=\"DRO, strong reg, group adjs, worst group\")\n",
    "ax.legend()\n",
    "\n",
    "ax = axes[1]\n",
    "x = np.arange(2)\n",
    "ax.bar(np.array(list(class_accs.keys())) - 0.1, class_accs.values(), width=0.2, align=\"center\", label=\"test accuracy\")\n",
    "ax.bar(np.array(list((to_ratio(test_class_counts).keys()))) + 0.1, to_ratio(test_class_counts).values(), width=0.2, align=\"center\", label=\"test ratio\")\n",
    "ax.set(xticklabels=[0, 1, 2, 3], xticks=x, ylim=[0, 1], title=\"SimCLR averaged undersampled linear classifer linear classifer on Waterbirds\", xlabel=\"Class\")\n",
    "ax.legend()"
   ]
  },
  {
   "cell_type": "code",
   "execution_count": null,
   "id": "informed-frederick",
   "metadata": {},
   "outputs": [],
   "source": []
  }
 ],
 "metadata": {
  "kernelspec": {
   "display_name": "Python 3",
   "language": "python",
   "name": "python3"
  },
  "language_info": {
   "codemirror_mode": {
    "name": "ipython",
    "version": 3
   },
   "file_extension": ".py",
   "mimetype": "text/x-python",
   "name": "python",
   "nbconvert_exporter": "python",
   "pygments_lexer": "ipython3",
   "version": "3.8.8"
  }
 },
 "nbformat": 4,
 "nbformat_minor": 5
}
