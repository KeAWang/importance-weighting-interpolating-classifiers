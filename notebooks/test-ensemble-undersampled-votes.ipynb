{
 "cells": [
  {
   "cell_type": "code",
   "execution_count": 1,
   "id": "changed-sacramento",
   "metadata": {},
   "outputs": [],
   "source": [
    "import sys\n",
    "sys.path.append(\"../\")\n",
    "import dotenv\n",
    "from src.utils.wandb_utils import get_config, config_to_omegaconf\n",
    "from run import set_personal_dir_from_hostname\n",
    "import os\n",
    "\n",
    "%load_ext autoreload\n",
    "%autoreload 2"
   ]
  },
  {
   "cell_type": "code",
   "execution_count": 2,
   "id": "challenging-injection",
   "metadata": {},
   "outputs": [
    {
     "data": {
      "text/plain": [
       "True"
      ]
     },
     "execution_count": 2,
     "metadata": {},
     "output_type": "execute_result"
    }
   ],
   "source": [
    "set_personal_dir_from_hostname()\n",
    "# load environment variables from `.env` file if it exists\n",
    "dotenv.load_dotenv(override=True)"
   ]
  },
  {
   "cell_type": "code",
   "execution_count": 3,
   "id": "continuous-adapter",
   "metadata": {},
   "outputs": [],
   "source": [
    "user = \"kealexanderwang\"\n",
    "project = \"importance-reweighing\""
   ]
  },
  {
   "cell_type": "code",
   "execution_count": 4,
   "id": "therapeutic-shaft",
   "metadata": {},
   "outputs": [],
   "source": [
    "run_names = [\n",
    "    \"likely-mountain-495\",\n",
    "    \"easy-field-494\",\n",
    "    \"grateful-paper-493\",\n",
    "]\n",
    "\n",
    "query = {\"displayName\": {\"$in\": run_names}}"
   ]
  },
  {
   "cell_type": "code",
   "execution_count": 5,
   "id": "necessary-flexibility",
   "metadata": {},
   "outputs": [],
   "source": [
    "from typing import Tuple\n",
    "\n",
    "\n",
    "def init_model(name_config: Tuple[str, dict], ckpt_name=\"last.ckpt\"):\n",
    "    \n",
    "    name, config = name_config\n",
    "    config[\"data_dir\"] = os.environ.get(\"DATA_DIR\")\n",
    "    config[\"datamodule/data_dir\"] = os.environ.get(\"DATA_DIR\")\n",
    "    config[\"architecture/pretrained\"] = False  # don't load resnet checkpoint for permission reasons\n",
    "    \n",
    "    config = config_to_omegaconf(config)\n",
    "    run_dir = config[\"run_dir\"]\n",
    "    ckpt_path = f\"{run_dir}/checkpoints/{ckpt_name}\"\n",
    "    \n",
    "    config.trainer.gpus = 0  # don't use GPU for test time\n",
    "    from src.train import hydra_init\n",
    "    hydra_objs = hydra_init(config)\n",
    "    \n",
    "    model = hydra_objs.model\n",
    "    import torch\n",
    "    ckpt = torch.load(ckpt_path, map_location=torch.device('cpu'))\n",
    "    model.load_state_dict(ckpt[\"state_dict\"])\n",
    "    model.eval()\n",
    "    model.cpu()\n",
    "    \n",
    "    datamodule = hydra_objs.datamodule\n",
    "    datamodule.setup()\n",
    "    return model, datamodule"
   ]
  },
  {
   "cell_type": "code",
   "execution_count": 6,
   "id": "given-weekend",
   "metadata": {},
   "outputs": [],
   "source": [
    "name_configs = get_config(user=user, project=project, query=query)"
   ]
  },
  {
   "cell_type": "code",
   "execution_count": 7,
   "id": "attractive-fundamentals",
   "metadata": {},
   "outputs": [
    {
     "name": "stdout",
     "output_type": "stream",
     "text": [
      "<class 'src.pl_models.imbalanced_classifier_model.ImbalancedClassifierModel'> initialized with unused kwargs: ['params_total', 'params_trainable', 'params_not_trainable', 'class_weights']\n",
      "Resetting final linear layer\n"
     ]
    },
    {
     "name": "stderr",
     "output_type": "stream",
     "text": [
      "GPU available: False, used: False\n",
      "TPU available: False, using: 0 TPU cores\n"
     ]
    },
    {
     "name": "stdout",
     "output_type": "stream",
     "text": [
      "Train class counts: Counter({0: 3682, 1: 1113})\n",
      "Train group counts: Counter({0: 3498, 3: 1057, 1: 184, 2: 56})\n",
      "Val class counts: Counter({0: 933, 1: 266})\n",
      "Val group counts: Counter({0: 467, 1: 466, 3: 133, 2: 133})\n",
      "Test class counts: Counter({0: 4510, 1: 1284})\n",
      "Test group counts: Counter({0: 2255, 1: 2255, 3: 642, 2: 642})\n",
      "Dataset classes were undersampled to Counter({1: 118, 0: 105})\n",
      "Dataset groups were undersampled to Counter({3: 62, 2: 56, 0: 54, 1: 51})\n"
     ]
    },
    {
     "name": "stderr",
     "output_type": "stream",
     "text": [
      "../src/datasets/utils.py:96: UserWarning: To copy construct from a tensor, it is recommended to use sourceTensor.clone().detach() or sourceTensor.clone().detach().requires_grad_(True), rather than torch.tensor(sourceTensor).\n",
      "  weights = torch.tensor(weights)\n",
      "GPU available: False, used: False\n",
      "TPU available: False, using: 0 TPU cores\n"
     ]
    },
    {
     "name": "stdout",
     "output_type": "stream",
     "text": [
      "<class 'src.pl_models.imbalanced_classifier_model.ImbalancedClassifierModel'> initialized with unused kwargs: ['params_total', 'params_trainable', 'params_not_trainable', 'class_weights']\n",
      "Resetting final linear layer\n",
      "Train class counts: Counter({0: 3682, 1: 1113})\n",
      "Train group counts: Counter({0: 3498, 3: 1057, 1: 184, 2: 56})\n",
      "Val class counts: Counter({0: 933, 1: 266})\n",
      "Val group counts: Counter({0: 467, 1: 466, 3: 133, 2: 133})\n",
      "Test class counts: Counter({0: 4510, 1: 1284})\n",
      "Test group counts: Counter({0: 2255, 1: 2255, 3: 642, 2: 642})\n",
      "Dataset classes were undersampled to Counter({0: 115, 1: 104})\n",
      "Dataset groups were undersampled to Counter({0: 63, 2: 56, 1: 52, 3: 48})\n"
     ]
    }
   ],
   "source": [
    "model_datamodule_lst = [init_model(name_config) for name_config in name_configs]"
   ]
  },
  {
   "cell_type": "code",
   "execution_count": 8,
   "id": "favorite-buyer",
   "metadata": {},
   "outputs": [],
   "source": [
    "val_dataset = model_datamodule_lst[0][1].val_dataset\n",
    "models = [m_d[0] for m_d in model_datamodule_lst]"
   ]
  },
  {
   "cell_type": "code",
   "execution_count": 9,
   "id": "automated-small",
   "metadata": {},
   "outputs": [],
   "source": [
    "def ensemble_step(batch, models, method=\"majority\"):\n",
    "    \"\"\"Majority vote ensembling\"\"\"\n",
    "    import torch\n",
    "    loss_preds_y = [model.step(batch) for model in models]\n",
    "    _, logits_lst, preds_lst, _, _ = zip(*loss_preds_y)\n",
    "    if method == \"majority\":\n",
    "        ensemble_preds = torch.stack(preds_lst)\n",
    "        preds = torch.mode(ensemble_preds, axis=0).values\n",
    "    elif method == \"average\":\n",
    "        ensemble_logits = torch.stack(logits_lst)\n",
    "        ensemble_probs = torch.nn.functional.softmax(ensemble_logits, dim=-1)\n",
    "        average_prob = ensemble_probs.mean(0)\n",
    "        preds = torch.argmax(average_prob, dim=-1)\n",
    "    return preds"
   ]
  },
  {
   "cell_type": "code",
   "execution_count": 10,
   "id": "experimental-shell",
   "metadata": {},
   "outputs": [],
   "source": [
    "import torch\n",
    "from torch.utils.data import DataLoader\n",
    "\n",
    "dataloader = DataLoader(val_dataset, batch_size=64)\n",
    "y_trues = []\n",
    "y_preds = []\n",
    "weights = []\n",
    "group_labels = []\n",
    "for batch in dataloader:\n",
    "    y_pred = ensemble_step(batch, models, \"majority\")\n",
    "    \n",
    "    y = batch.y\n",
    "    g = batch.g\n",
    "    w = batch.g\n",
    "    \n",
    "    y_trues.append(y)\n",
    "    y_preds.append(y_pred)\n",
    "    weights.append(w)\n",
    "    group_labels.append(g)\n",
    "    \n",
    "y_trues = torch.cat(y_trues)\n",
    "y_preds = torch.cat(y_preds)\n",
    "group_labels = torch.cat(group_labels)\n",
    "weights = torch.cat(weights)\n",
    "\n",
    "correct = (y_trues == y_preds).float()\n",
    "\n",
    "val_acc = correct.mean().item()"
   ]
  },
  {
   "cell_type": "code",
   "execution_count": 11,
   "id": "secret-spirit",
   "metadata": {},
   "outputs": [
    {
     "data": {
      "text/plain": [
       "0.9099249243736267"
      ]
     },
     "execution_count": 11,
     "metadata": {},
     "output_type": "execute_result"
    }
   ],
   "source": [
    "val_acc"
   ]
  },
  {
   "cell_type": "code",
   "execution_count": 16,
   "id": "satellite-january",
   "metadata": {},
   "outputs": [],
   "source": [
    "group_accs = {}                                                                   \n",
    "correct = (y_trues == y_preds).float()\n",
    "for g in torch.unique(group_labels).tolist():                                     \n",
    "    in_g = group_labels == g                                                      \n",
    "    acc = correct[in_g].mean().item()                                             \n",
    "    group_accs[g] = acc                                                           \n",
    "\n",
    "val_reweighted_acc = (correct * weights).sum(0) / weights.sum(0) "
   ]
  },
  {
   "cell_type": "code",
   "execution_count": 17,
   "id": "dominant-coach",
   "metadata": {},
   "outputs": [
    {
     "name": "stdout",
     "output_type": "stream",
     "text": [
      "{0: 0.9357602000236511, 1: 0.8991416096687317, 2: 0.8571428656578064, 3: 0.9097744226455688}\n"
     ]
    }
   ],
   "source": [
    "print(group_accs)"
   ]
  },
  {
   "cell_type": "code",
   "execution_count": 18,
   "id": "upset-dressing",
   "metadata": {},
   "outputs": [
    {
     "name": "stdout",
     "output_type": "stream",
     "text": [
      "tensor(0.8930)\n"
     ]
    }
   ],
   "source": [
    "print(val_reweighted_acc)"
   ]
  },
  {
   "cell_type": "code",
   "execution_count": null,
   "id": "demographic-dynamics",
   "metadata": {},
   "outputs": [],
   "source": []
  }
 ],
 "metadata": {
  "kernelspec": {
   "display_name": "Python 3",
   "language": "python",
   "name": "python3"
  },
  "language_info": {
   "codemirror_mode": {
    "name": "ipython",
    "version": 3
   },
   "file_extension": ".py",
   "mimetype": "text/x-python",
   "name": "python",
   "nbconvert_exporter": "python",
   "pygments_lexer": "ipython3",
   "version": "3.8.8"
  }
 },
 "nbformat": 4,
 "nbformat_minor": 5
}
